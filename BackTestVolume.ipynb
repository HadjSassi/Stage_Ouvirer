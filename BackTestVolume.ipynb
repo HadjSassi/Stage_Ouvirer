{
 "cells": [
  {
   "cell_type": "markdown",
   "metadata": {},
   "source": [
    "# Import bibs"
   ]
  },
  {
   "cell_type": "code",
   "execution_count": 2,
   "metadata": {
    "pycharm": {
     "name": "#%%\n"
    },
    "ExecuteTime": {
     "end_time": "2023-06-08T10:46:50.166179728Z",
     "start_time": "2023-06-08T10:46:47.391973650Z"
    }
   },
   "outputs": [],
   "source": [
    "import pandas as pd\n",
    "\n",
    "from utilities.Functionnalities import *\n",
    "import warnings\n",
    "warnings.filterwarnings(\"ignore\")"
   ]
  },
  {
   "cell_type": "markdown",
   "metadata": {
    "pycharm": {
     "name": "#%% md\n"
    }
   },
   "source": [
    "# ENTRIES"
   ]
  },
  {
   "cell_type": "code",
   "execution_count": 3,
   "metadata": {
    "pycharm": {
     "name": "#%%\n"
    },
    "ExecuteTime": {
     "end_time": "2023-06-08T10:46:50.180040230Z",
     "start_time": "2023-06-08T10:46:50.173441004Z"
    }
   },
   "outputs": [],
   "source": [
    "# entries\n",
    "dateObservation = 24\n",
    "nbPool = 6\n",
    "delta_hour = \"8h\"\n",
    "n_i = \"N\"\n",
    "star_time = \"2021-07-21\"\n",
    "hour = \"10:00:00\"\n",
    "ending_time = \"2022-01-1\""
   ]
  },
  {
   "cell_type": "markdown",
   "metadata": {
    "pycharm": {
     "name": "#%% md\n"
    }
   },
   "source": [
    "## download node modules to use for collecting data with nodejs\n",
    "### npm install ccxt\n",
    "### npm install csv-writer"
   ]
  },
  {
   "cell_type": "code",
   "execution_count": 3,
   "metadata": {
    "ExecuteTime": {
     "end_time": "2023-06-08T09:18:26.262909356Z",
     "start_time": "2023-06-08T09:18:26.198605829Z"
    },
    "pycharm": {
     "name": "#%%\n"
    }
   },
   "outputs": [
    {
     "name": "stdout",
     "output_type": "stream",
     "text": [
      "ccxt is already installed.\n"
     ]
    }
   ],
   "source": [
    "install_package_if_needed(\"ccxt\")"
   ]
  },
  {
   "cell_type": "code",
   "execution_count": 4,
   "metadata": {
    "ExecuteTime": {
     "end_time": "2023-06-08T09:18:26.736801150Z",
     "start_time": "2023-06-08T09:18:26.657768566Z"
    },
    "pycharm": {
     "name": "#%%\n"
    }
   },
   "outputs": [
    {
     "name": "stdout",
     "output_type": "stream",
     "text": [
      "csv-writer is already installed.\n"
     ]
    }
   ],
   "source": [
    "install_package_if_needed(\"csv-writer\")"
   ]
  },
  {
   "cell_type": "markdown",
   "metadata": {},
   "source": [
    "# La partie Itérative"
   ]
  },
  {
   "cell_type": "code",
   "execution_count": 4,
   "metadata": {
    "ExecuteTime": {
     "end_time": "2023-06-08T10:46:59.519704049Z",
     "start_time": "2023-06-08T10:46:59.494129257Z"
    }
   },
   "outputs": [],
   "source": [
    "data = {'current_date': pd.to_datetime(['2020-01-02 10:00:00']),\n",
    "        'pool': [['BNB', 'ATD', 'ACC']]}\n",
    "df = pd.DataFrame(data)\n",
    "df.set_index('current_date', inplace=True)\n",
    "df.drop(df.index, inplace=True)\n",
    "\n",
    "command = 'node ./database/dl_for_quick_analysis.js'\n",
    "path = \"./database/quick_analysis\"\n",
    "ennDate = f\"{ending_time} {hour}\"\n",
    "sttDate = f\"{star_time} {hour}\"\n",
    "start_date = datetime.strptime(sttDate, \"%Y-%m-%d %H:%M:%S\")\n",
    "end_date = datetime.strptime(ennDate, \"%Y-%m-%d %H:%M:%S\")\n",
    "\n",
    "current_date = start_date"
   ]
  },
  {
   "cell_type": "markdown",
   "source": [
    "### Juste here lazem na3ref kifech fi kol nhar nzid nsob men 8ir manefsa5"
   ],
   "metadata": {
    "collapsed": false
   }
  },
  {
   "cell_type": "code",
   "execution_count": 11,
   "metadata": {
    "ExecuteTime": {
     "end_time": "2023-06-08T09:19:40.506964874Z",
     "start_time": "2023-06-08T09:19:40.485547383Z"
    }
   },
   "outputs": [],
   "source": [
    "def downloadingDate(current_date):\n",
    "    execute_terminal_command2(command, current_date.strftime(\"%Y-%m-%d\"), hour)\n",
    "    #remove unecessary files just keep the csv files\n",
    "    remove_non_csv_files(path)\n",
    "    #Process Started"
   ]
  },
  {
   "cell_type": "code",
   "execution_count": 12,
   "metadata": {
    "ExecuteTime": {
     "end_time": "2023-06-08T09:20:09.682660707Z",
     "start_time": "2023-06-08T09:19:41.063578707Z"
    }
   },
   "outputs": [
    {
     "name": "stdout",
     "output_type": "stream",
     "text": [
      "node ./database/dl_for_quick_analysis.js \"2023-05-01\" \"00:00:00\"\n",
      "Downloading Started, Please wait!\n",
      "node ./database/dl_for_quick_analysis.js \"2023-05-02\" \"00:00:00\"\n",
      "Downloading Started, Please wait!\n",
      "node ./database/dl_for_quick_analysis.js \"2023-05-03\" \"00:00:00\"\n",
      "Downloading Started, Please wait!\n",
      "node ./database/dl_for_quick_analysis.js \"2023-05-04\" \"00:00:00\"\n",
      "Downloading Started, Please wait!\n",
      "node ./database/dl_for_quick_analysis.js \"2023-05-05\" \"00:00:00\"\n",
      "Downloading Started, Please wait!\n",
      "node ./database/dl_for_quick_analysis.js \"2023-05-06\" \"00:00:00\"\n",
      "Downloading Started, Please wait!\n",
      "node ./database/dl_for_quick_analysis.js \"2023-05-07\" \"00:00:00\"\n",
      "Downloading Started, Please wait!\n",
      "node ./database/dl_for_quick_analysis.js \"2023-05-08\" \"00:00:00\"\n",
      "Downloading Started, Please wait!\n",
      "node ./database/dl_for_quick_analysis.js \"2023-05-09\" \"00:00:00\"\n",
      "Downloading Started, Please wait!\n",
      "node ./database/dl_for_quick_analysis.js \"2023-05-10\" \"00:00:00\"\n",
      "Downloading Started, Please wait!\n",
      "Donwloading Finished\n",
      "Command execution failed with return code: 1\n",
      "Donwloading Finished\n",
      "Command execution failed with return code: 1\n",
      "Donwloading Finished\n",
      "Command execution failed with return code: 1\n",
      "Donwloading Finished\n",
      "Command execution failed with return code: 1\n",
      "Donwloading Finished\n",
      "Command execution failed with return code: 1\n",
      "Donwloading Finished\n",
      "Command execution failed with return code: 1\n",
      "Donwloading Finished\n",
      "Command execution failed with return code: 1\n",
      "Donwloading Finished\n",
      "Command execution failed with return code: 1\n",
      "Donwloading Finished\n",
      "Command execution failed with return code: 1\n",
      "Donwloading Finished\n",
      "Command execution failed with return code: 1\n",
      "All data loaded\n",
      "All data loaded\n",
      "All data loaded\n",
      "All data loaded\n",
      "All data loaded\n",
      "All data loaded\n",
      "All data loaded\n",
      "All data loaded\n",
      "All data loaded\n",
      "All data loaded\n",
      "Process is done!\n"
     ]
    }
   ],
   "source": [
    "threads = []\n",
    "while current_date <= end_date:\n",
    "    thread = threading.Thread(target=downloadingDate, args=(current_date,))\n",
    "    thread.start()\n",
    "    threads.append(thread)\n",
    "    current_date += timedelta(days=1)\n",
    "\n",
    "# Wait for all threads to finish\n",
    "for thread in threads:\n",
    "    thread.join()\n",
    "print(\"Process is done!\")\n"
   ]
  },
  {
   "cell_type": "markdown",
   "source": [
    "## get the data from the database/quick_analysis"
   ],
   "metadata": {
    "collapsed": false
   }
  },
  {
   "cell_type": "code",
   "execution_count": null,
   "outputs": [],
   "source": [
    "file_list = [f for f in listdir(path) if isfile(join(path, f))]\n",
    "df_list = {}\n",
    "for file in file_list:\n",
    "    df_list[file[:-9]] = get_historical_from_path(path + \"/\" + file)\n",
    "print(\"All data loaded\")\n",
    "\n",
    "df_metric = get_analyisis_from_window(df_list,dateObservation).sort_values(by=\"volume_evolution\", ascending=False)\n",
    "dfVe = df_metric.iloc[:nbPool]\n",
    "market = list(dfVe.index)\n",
    "df.loc[current_date.strftime(\"%Y-%m-%d %H:%M:%S\")] = [list(dfVe['volume_evolution'].index)]\n",
    "df_metric = get_analyisis_from_window(df_list,dateObservation).sort_values(by=\"volume_evolution\", ascending=False)\n",
    "dfVe = df_metric.iloc[:nbPool]\n",
    "market = list(dfVe.index)\n",
    "df.loc[current_date.strftime(\"%Y-%m-%d %H:%M:%S\")] = [list(dfVe['volume_evolution'].index)]"
   ],
   "metadata": {
    "collapsed": false
   }
  },
  {
   "cell_type": "code",
   "execution_count": 13,
   "metadata": {
    "ExecuteTime": {
     "end_time": "2023-06-08T09:20:14.576881673Z",
     "start_time": "2023-06-08T09:20:14.554105115Z"
    }
   },
   "outputs": [
    {
     "data": {
      "text/html": [
       "<div>\n",
       "<style scoped>\n",
       "    .dataframe tbody tr th:only-of-type {\n",
       "        vertical-align: middle;\n",
       "    }\n",
       "\n",
       "    .dataframe tbody tr th {\n",
       "        vertical-align: top;\n",
       "    }\n",
       "\n",
       "    .dataframe thead th {\n",
       "        text-align: right;\n",
       "    }\n",
       "</style>\n",
       "<table border=\"1\" class=\"dataframe\">\n",
       "  <thead>\n",
       "    <tr style=\"text-align: right;\">\n",
       "      <th></th>\n",
       "      <th>pool</th>\n",
       "    </tr>\n",
       "    <tr>\n",
       "      <th>current_date</th>\n",
       "      <th></th>\n",
       "    </tr>\n",
       "  </thead>\n",
       "  <tbody>\n",
       "    <tr>\n",
       "      <th>2023-05-01 00:00:00</th>\n",
       "      <td>[ALPHA-USDT, ALPHA, AGLD, ARDR, AKRO, ADA-USDT]</td>\n",
       "    </tr>\n",
       "    <tr>\n",
       "      <th>2023-05-09 00:00:00</th>\n",
       "      <td>[ALPHA-USDT, ALPHA, AGLD, ARDR, AKRO, ADA-USDT]</td>\n",
       "    </tr>\n",
       "    <tr>\n",
       "      <th>2023-05-05 00:00:00</th>\n",
       "      <td>[ALPHA-USDT, ALPHA, AGLD, ARDR, AKRO, ADA-USDT]</td>\n",
       "    </tr>\n",
       "    <tr>\n",
       "      <th>2023-05-03 00:00:00</th>\n",
       "      <td>[ALPHA-USDT, ALPHA, AGLD, ARDR, AKRO, ADA-USDT]</td>\n",
       "    </tr>\n",
       "    <tr>\n",
       "      <th>2023-05-06 00:00:00</th>\n",
       "      <td>[ALPHA-USDT, ALPHA, AGLD, ARDR, AKRO, ADA-USDT]</td>\n",
       "    </tr>\n",
       "    <tr>\n",
       "      <th>2023-05-02 00:00:00</th>\n",
       "      <td>[ALPHA-USDT, ALPHA, AGLD, ARDR, AKRO, ADA-USDT]</td>\n",
       "    </tr>\n",
       "    <tr>\n",
       "      <th>2023-05-10 00:00:00</th>\n",
       "      <td>[ALPHA-USDT, ALPHA, AGLD, ARDR, AKRO, ADA-USDT]</td>\n",
       "    </tr>\n",
       "    <tr>\n",
       "      <th>2023-05-07 00:00:00</th>\n",
       "      <td>[ALPHA-USDT, ALPHA, AGLD, ARDR, AKRO, ADA-USDT]</td>\n",
       "    </tr>\n",
       "    <tr>\n",
       "      <th>2023-05-08 00:00:00</th>\n",
       "      <td>[ALPHA-USDT, ALPHA, AGLD, ARDR, AKRO, ADA-USDT]</td>\n",
       "    </tr>\n",
       "    <tr>\n",
       "      <th>2023-05-04 00:00:00</th>\n",
       "      <td>[ALPHA-USDT, ALPHA, AGLD, ARDR, AKRO, ADA-USDT]</td>\n",
       "    </tr>\n",
       "  </tbody>\n",
       "</table>\n",
       "</div>"
      ],
      "text/plain": [
       "                                                                pool\n",
       "current_date                                                        \n",
       "2023-05-01 00:00:00  [ALPHA-USDT, ALPHA, AGLD, ARDR, AKRO, ADA-USDT]\n",
       "2023-05-09 00:00:00  [ALPHA-USDT, ALPHA, AGLD, ARDR, AKRO, ADA-USDT]\n",
       "2023-05-05 00:00:00  [ALPHA-USDT, ALPHA, AGLD, ARDR, AKRO, ADA-USDT]\n",
       "2023-05-03 00:00:00  [ALPHA-USDT, ALPHA, AGLD, ARDR, AKRO, ADA-USDT]\n",
       "2023-05-06 00:00:00  [ALPHA-USDT, ALPHA, AGLD, ARDR, AKRO, ADA-USDT]\n",
       "2023-05-02 00:00:00  [ALPHA-USDT, ALPHA, AGLD, ARDR, AKRO, ADA-USDT]\n",
       "2023-05-10 00:00:00  [ALPHA-USDT, ALPHA, AGLD, ARDR, AKRO, ADA-USDT]\n",
       "2023-05-07 00:00:00  [ALPHA-USDT, ALPHA, AGLD, ARDR, AKRO, ADA-USDT]\n",
       "2023-05-08 00:00:00  [ALPHA-USDT, ALPHA, AGLD, ARDR, AKRO, ADA-USDT]\n",
       "2023-05-04 00:00:00  [ALPHA-USDT, ALPHA, AGLD, ARDR, AKRO, ADA-USDT]"
      ]
     },
     "execution_count": 13,
     "metadata": {},
     "output_type": "execute_result"
    }
   ],
   "source": [
    "df.to_csv('./database/pools.csv',header=False)\n",
    "df"
   ]
  },
  {
   "cell_type": "markdown",
   "metadata": {},
   "source": [
    "# The BackTest With diffirent Combination"
   ]
  },
  {
   "cell_type": "markdown",
   "metadata": {},
   "source": [
    "##  Generate all combinations\n"
   ]
  },
  {
   "cell_type": "code",
   "execution_count": 5,
   "metadata": {
    "ExecuteTime": {
     "end_time": "2023-06-08T10:47:07.944741205Z",
     "start_time": "2023-06-08T10:47:07.228335880Z"
    }
   },
   "outputs": [],
   "source": [
    "client = Client()\n",
    "crypto = {}\n",
    "deltaHours = [\"2h\",\"4h\",\"8h\",\"12h\"]\n",
    "Ni = [\"N\",\"N-1\",\"N-2\"]\n",
    "array1 = []\n",
    "with open('database/pools.csv', 'r') as file:\n",
    "    reader = csv.reader(file)\n",
    "    for row in reader:\n",
    "        timestamp = row[0]\n",
    "        elements = row[1].strip('[]').split(', ')\n",
    "        array1.append((timestamp, elements))\n",
    "combinations = list(itertools.product(array1, deltaHours, Ni))\n",
    "combinations = [list(item) for item in combinations]"
   ]
  },
  {
   "cell_type": "code",
   "execution_count": 7,
   "outputs": [
    {
     "name": "stdout",
     "output_type": "stream",
     "text": [
      "('2023-05-01 00:00:00', [\"'ALPHA-USDT'\", \"'ALPHA'\", \"'AGLD'\", \"'ARDR'\", \"'AKRO'\", \"'ADA-USDT'\"])\n",
      "('2023-05-09 00:00:00', [\"'ALPHA-USDT'\", \"'ALPHA'\", \"'AGLD'\", \"'ARDR'\", \"'AKRO'\", \"'ADA-USDT'\"])\n",
      "('2023-05-05 00:00:00', [\"'ALPHA-USDT'\", \"'ALPHA'\", \"'AGLD'\", \"'ARDR'\", \"'AKRO'\", \"'ADA-USDT'\"])\n",
      "('2023-05-03 00:00:00', [\"'ALPHA-USDT'\", \"'ALPHA'\", \"'AGLD'\", \"'ARDR'\", \"'AKRO'\", \"'ADA-USDT'\"])\n",
      "('2023-05-06 00:00:00', [\"'ALPHA-USDT'\", \"'ALPHA'\", \"'AGLD'\", \"'ARDR'\", \"'AKRO'\", \"'ADA-USDT'\"])\n",
      "('2023-05-02 00:00:00', [\"'ALPHA-USDT'\", \"'ALPHA'\", \"'AGLD'\", \"'ARDR'\", \"'AKRO'\", \"'ADA-USDT'\"])\n",
      "('2023-05-10 00:00:00', [\"'ALPHA-USDT'\", \"'ALPHA'\", \"'AGLD'\", \"'ARDR'\", \"'AKRO'\", \"'ADA-USDT'\"])\n",
      "('2023-05-07 00:00:00', [\"'ALPHA-USDT'\", \"'ALPHA'\", \"'AGLD'\", \"'ARDR'\", \"'AKRO'\", \"'ADA-USDT'\"])\n",
      "('2023-05-08 00:00:00', [\"'ALPHA-USDT'\", \"'ALPHA'\", \"'AGLD'\", \"'ARDR'\", \"'AKRO'\", \"'ADA-USDT'\"])\n",
      "('2023-05-04 00:00:00', [\"'ALPHA-USDT'\", \"'ALPHA'\", \"'AGLD'\", \"'ARDR'\", \"'AKRO'\", \"'ADA-USDT'\"])\n"
     ]
    }
   ],
   "source": [
    "for i in array1 :\n",
    "    print(i)"
   ],
   "metadata": {
    "collapsed": false,
    "ExecuteTime": {
     "end_time": "2023-06-08T10:47:47.783131492Z",
     "start_time": "2023-06-08T10:47:47.779599616Z"
    }
   }
  },
  {
   "cell_type": "markdown",
   "metadata": {},
   "source": [
    "## Prepare the Cocotier Method"
   ]
  },
  {
   "cell_type": "code",
   "execution_count": 15,
   "metadata": {
    "ExecuteTime": {
     "end_time": "2023-06-08T09:20:31.214145598Z",
     "start_time": "2023-06-08T09:20:31.197689637Z"
    }
   },
   "outputs": [],
   "source": [
    "import traceback\n",
    "def cocotier(combination):\n",
    "    crypto = {}\n",
    "    x = \"\"\n",
    "    for elm in combination[0][1] :\n",
    "        try :\n",
    "            x = elm.replace(\"'\",\"\")\n",
    "            #get the values from binance as they are and convert them to a dataframe we can work with\n",
    "            if x.endswith(\"-USDT\"):\n",
    "                x = x[:-5]\n",
    "            else:\n",
    "                x = x\n",
    "            x = x.lower()+'/usdt'\n",
    "            x = ''.join(char for char in x if not char.isdigit())\n",
    "            ennDate = combination[0][0]\n",
    "            previousDate = (datetime.strptime(ennDate, \"%Y-%m-%d %H:%M:%S\") - timedelta(days=1)).strftime(\"%Y-%m-%d %H:%M:%S\")\n",
    "            crypto[x] = client.get_historical_klines(x.replace(\"/\", \"\").upper(), combination[1], previousDate,ennDate)\n",
    "            crypto[x] = pd.DataFrame(data=crypto[x],\n",
    "                                     columns=['timestamp', x[:-5] + '_open', 'high', 'low', x[:-5] + '_close', 'volume','close_time', 'quote_av', 'trades', 'tb_base_av', 'tb_quote_av', 'ignore'])\n",
    "            crypto[x] = crypto[x][['timestamp', x[:-5] + '_open', x[:-5] + '_close']]\n",
    "            crypto[x] = convert_time(crypto[x])\n",
    "            crypto[x] = crypto[x].astype({x[:-5] + '_open': 'float64',x[:-5] + '_close': 'float64'})\n",
    "            crypto[x] = crypto[x].set_index('timestamp')\n",
    "        except Exception as ll:\n",
    "            print(f\"{ll}\\n{x} :  Please Try another name of this crypto !\")\n",
    "            traceback.format_exc()\n",
    "    try :\n",
    "        array_mauvais_shape = detection_mauvais_shape(crypto)\n",
    "        # crypto = correction_shape(crypto, array_mauvais_shape)\n",
    "        # for elm in array_mauvais_shape:\n",
    "        #     crypto[elm]['timestamp'] = generation_date(crypto[elm], int(delta_hour[:1]))\n",
    "        #     crypto[elm] = crypto[elm].set_index('timestamp')\n",
    "        for i in array_mauvais_shape:\n",
    "            del crypto[i]\n",
    "        crypto = variationN(crypto, combination[2])\n",
    "        crypto = coeffMulti(crypto)\n",
    "        crypto = mergeCryptoTogether(crypto)\n",
    "        crypto, maxis = botMax(crypto)\n",
    "        crypto = botMaxVariation2(crypto, maxis)\n",
    "        crypto = coeffMultiBotMax(crypto)\n",
    "        coefMulti = coefmultiFinal(crypto)\n",
    "        combination.append(coefMulti.tail(1).iloc[-1,-1])\n",
    "    except:\n",
    "        traceback.format_exc()"
   ]
  },
  {
   "cell_type": "code",
   "execution_count": 16,
   "metadata": {
    "ExecuteTime": {
     "end_time": "2023-06-08T09:21:40.657471364Z",
     "start_time": "2023-06-08T09:20:31.959733557Z"
    }
   },
   "outputs": [],
   "source": [
    "# Launch a thread for each iteration\n",
    "threads = []\n",
    "combinations = list(combinations)\n",
    "for combination in combinations:\n",
    "    thread = threading.Thread(target=cocotier, args=(combination,))\n",
    "    thread.start()\n",
    "    threads.append(thread)\n",
    "\n",
    "# Wait for all threads to finish\n",
    "for thread in threads:\n",
    "    thread.join()\n",
    "# cocotier(combination)"
   ]
  },
  {
   "cell_type": "code",
   "execution_count": 16,
   "metadata": {
    "ExecuteTime": {
     "end_time": "2023-06-08T09:21:43.372065340Z",
     "start_time": "2023-06-08T09:21:43.347848012Z"
    }
   },
   "outputs": [],
   "source": []
  },
  {
   "cell_type": "code",
   "execution_count": 17,
   "metadata": {
    "ExecuteTime": {
     "end_time": "2023-06-08T09:21:43.783302752Z",
     "start_time": "2023-06-08T09:21:43.776768565Z"
    }
   },
   "outputs": [],
   "source": [
    "\n",
    "# Flatten the nested lists\n",
    "flat_data = []\n",
    "for combination in combinations:\n",
    "    datetime = combination[0][0]\n",
    "    pool = combination[0][1]\n",
    "    deltahour = combination[1]\n",
    "    Ni = combination[2]\n",
    "    BotMax = combination[3]\n",
    "    flat_data.append([datetime, deltahour, Ni, BotMax, pool])\n",
    "df = pd.DataFrame(flat_data, columns=['datetime', 'deltahour', 'Ni', 'BotMax','pool'])\n"
   ]
  },
  {
   "cell_type": "code",
   "execution_count": 18,
   "metadata": {
    "ExecuteTime": {
     "end_time": "2023-06-08T09:21:44.697678183Z",
     "start_time": "2023-06-08T09:21:44.670823546Z"
    }
   },
   "outputs": [
    {
     "data": {
      "text/html": [
       "<div>\n",
       "<style scoped>\n",
       "    .dataframe tbody tr th:only-of-type {\n",
       "        vertical-align: middle;\n",
       "    }\n",
       "\n",
       "    .dataframe tbody tr th {\n",
       "        vertical-align: top;\n",
       "    }\n",
       "\n",
       "    .dataframe thead th {\n",
       "        text-align: right;\n",
       "    }\n",
       "</style>\n",
       "<table border=\"1\" class=\"dataframe\">\n",
       "  <thead>\n",
       "    <tr style=\"text-align: right;\">\n",
       "      <th></th>\n",
       "      <th>datetime</th>\n",
       "      <th>deltahour</th>\n",
       "      <th>Ni</th>\n",
       "      <th>BotMax</th>\n",
       "      <th>pool</th>\n",
       "    </tr>\n",
       "  </thead>\n",
       "  <tbody>\n",
       "    <tr>\n",
       "      <th>0</th>\n",
       "      <td>2023-05-01 00:00:00</td>\n",
       "      <td>2h</td>\n",
       "      <td>N</td>\n",
       "      <td>0.886147</td>\n",
       "      <td>['ALPHA-USDT', 'ALPHA', 'AGLD', 'ARDR', 'AKRO'...</td>\n",
       "    </tr>\n",
       "    <tr>\n",
       "      <th>1</th>\n",
       "      <td>2023-05-01 00:00:00</td>\n",
       "      <td>2h</td>\n",
       "      <td>N-1</td>\n",
       "      <td>0.886147</td>\n",
       "      <td>['ALPHA-USDT', 'ALPHA', 'AGLD', 'ARDR', 'AKRO'...</td>\n",
       "    </tr>\n",
       "    <tr>\n",
       "      <th>2</th>\n",
       "      <td>2023-05-01 00:00:00</td>\n",
       "      <td>2h</td>\n",
       "      <td>N-2</td>\n",
       "      <td>0.886147</td>\n",
       "      <td>['ALPHA-USDT', 'ALPHA', 'AGLD', 'ARDR', 'AKRO'...</td>\n",
       "    </tr>\n",
       "    <tr>\n",
       "      <th>3</th>\n",
       "      <td>2023-05-01 00:00:00</td>\n",
       "      <td>4h</td>\n",
       "      <td>N</td>\n",
       "      <td>0.890107</td>\n",
       "      <td>['ALPHA-USDT', 'ALPHA', 'AGLD', 'ARDR', 'AKRO'...</td>\n",
       "    </tr>\n",
       "    <tr>\n",
       "      <th>4</th>\n",
       "      <td>2023-05-01 00:00:00</td>\n",
       "      <td>4h</td>\n",
       "      <td>N-1</td>\n",
       "      <td>0.890107</td>\n",
       "      <td>['ALPHA-USDT', 'ALPHA', 'AGLD', 'ARDR', 'AKRO'...</td>\n",
       "    </tr>\n",
       "    <tr>\n",
       "      <th>...</th>\n",
       "      <td>...</td>\n",
       "      <td>...</td>\n",
       "      <td>...</td>\n",
       "      <td>...</td>\n",
       "      <td>...</td>\n",
       "    </tr>\n",
       "    <tr>\n",
       "      <th>115</th>\n",
       "      <td>2023-05-04 00:00:00</td>\n",
       "      <td>8h</td>\n",
       "      <td>N-1</td>\n",
       "      <td>1.001637</td>\n",
       "      <td>['ALPHA-USDT', 'ALPHA', 'AGLD', 'ARDR', 'AKRO'...</td>\n",
       "    </tr>\n",
       "    <tr>\n",
       "      <th>116</th>\n",
       "      <td>2023-05-04 00:00:00</td>\n",
       "      <td>8h</td>\n",
       "      <td>N-2</td>\n",
       "      <td>1.001637</td>\n",
       "      <td>['ALPHA-USDT', 'ALPHA', 'AGLD', 'ARDR', 'AKRO'...</td>\n",
       "    </tr>\n",
       "    <tr>\n",
       "      <th>117</th>\n",
       "      <td>2023-05-04 00:00:00</td>\n",
       "      <td>12h</td>\n",
       "      <td>N</td>\n",
       "      <td>1.006352</td>\n",
       "      <td>['ALPHA-USDT', 'ALPHA', 'AGLD', 'ARDR', 'AKRO'...</td>\n",
       "    </tr>\n",
       "    <tr>\n",
       "      <th>118</th>\n",
       "      <td>2023-05-04 00:00:00</td>\n",
       "      <td>12h</td>\n",
       "      <td>N-1</td>\n",
       "      <td>1.006352</td>\n",
       "      <td>['ALPHA-USDT', 'ALPHA', 'AGLD', 'ARDR', 'AKRO'...</td>\n",
       "    </tr>\n",
       "    <tr>\n",
       "      <th>119</th>\n",
       "      <td>2023-05-04 00:00:00</td>\n",
       "      <td>12h</td>\n",
       "      <td>N-2</td>\n",
       "      <td>1.006352</td>\n",
       "      <td>['ALPHA-USDT', 'ALPHA', 'AGLD', 'ARDR', 'AKRO'...</td>\n",
       "    </tr>\n",
       "  </tbody>\n",
       "</table>\n",
       "<p>120 rows × 5 columns</p>\n",
       "</div>"
      ],
      "text/plain": [
       "                datetime deltahour   Ni    BotMax  \\\n",
       "0    2023-05-01 00:00:00        2h    N  0.886147   \n",
       "1    2023-05-01 00:00:00        2h  N-1  0.886147   \n",
       "2    2023-05-01 00:00:00        2h  N-2  0.886147   \n",
       "3    2023-05-01 00:00:00        4h    N  0.890107   \n",
       "4    2023-05-01 00:00:00        4h  N-1  0.890107   \n",
       "..                   ...       ...  ...       ...   \n",
       "115  2023-05-04 00:00:00        8h  N-1  1.001637   \n",
       "116  2023-05-04 00:00:00        8h  N-2  1.001637   \n",
       "117  2023-05-04 00:00:00       12h    N  1.006352   \n",
       "118  2023-05-04 00:00:00       12h  N-1  1.006352   \n",
       "119  2023-05-04 00:00:00       12h  N-2  1.006352   \n",
       "\n",
       "                                                  pool  \n",
       "0    ['ALPHA-USDT', 'ALPHA', 'AGLD', 'ARDR', 'AKRO'...  \n",
       "1    ['ALPHA-USDT', 'ALPHA', 'AGLD', 'ARDR', 'AKRO'...  \n",
       "2    ['ALPHA-USDT', 'ALPHA', 'AGLD', 'ARDR', 'AKRO'...  \n",
       "3    ['ALPHA-USDT', 'ALPHA', 'AGLD', 'ARDR', 'AKRO'...  \n",
       "4    ['ALPHA-USDT', 'ALPHA', 'AGLD', 'ARDR', 'AKRO'...  \n",
       "..                                                 ...  \n",
       "115  ['ALPHA-USDT', 'ALPHA', 'AGLD', 'ARDR', 'AKRO'...  \n",
       "116  ['ALPHA-USDT', 'ALPHA', 'AGLD', 'ARDR', 'AKRO'...  \n",
       "117  ['ALPHA-USDT', 'ALPHA', 'AGLD', 'ARDR', 'AKRO'...  \n",
       "118  ['ALPHA-USDT', 'ALPHA', 'AGLD', 'ARDR', 'AKRO'...  \n",
       "119  ['ALPHA-USDT', 'ALPHA', 'AGLD', 'ARDR', 'AKRO'...  \n",
       "\n",
       "[120 rows x 5 columns]"
      ]
     },
     "execution_count": 18,
     "metadata": {},
     "output_type": "execute_result"
    }
   ],
   "source": [
    "df"
   ]
  },
  {
   "cell_type": "code",
   "execution_count": 18,
   "metadata": {
    "ExecuteTime": {
     "end_time": "2023-06-08T09:21:47.600781997Z",
     "start_time": "2023-06-08T09:21:47.570290174Z"
    }
   },
   "outputs": [],
   "source": []
  },
  {
   "cell_type": "code",
   "execution_count": 19,
   "metadata": {
    "ExecuteTime": {
     "end_time": "2023-06-08T09:21:48.302879791Z",
     "start_time": "2023-06-08T09:21:48.214212321Z"
    }
   },
   "outputs": [],
   "source": [
    "# Convert 'datetime' column to datetime format\n",
    "df['datetime'] = pd.to_datetime(df['datetime'])\n",
    "\n",
    "# Group DataFrame by 'deltahour' and 'Ni', calculate product of 'BotMax'\n",
    "df_grouped = df.groupby(['deltahour', 'Ni']).agg({'datetime': ['min', 'max'], 'BotMax': 'prod'}).reset_index()\n",
    "\n",
    "# Rename columns\n",
    "df_grouped.columns = ['deltahour', 'Ni', 'startDate', 'endingDate', 'BotMax']\n",
    "\n",
    "# Convert 'startDate' and 'endingDate' columns to desired format\n",
    "df_grouped['startDate'] = df_grouped['startDate'].dt.strftime('%Y-%m-%d %H:%M:%S')\n",
    "df_grouped['endingDate'] = df_grouped['endingDate'].dt.strftime('%Y-%m-%d %H:%M:%S')\n"
   ]
  },
  {
   "cell_type": "code",
   "execution_count": 20,
   "metadata": {
    "ExecuteTime": {
     "end_time": "2023-06-08T09:21:48.958151946Z",
     "start_time": "2023-06-08T09:21:48.946553943Z"
    }
   },
   "outputs": [
    {
     "data": {
      "text/html": [
       "<div>\n",
       "<style scoped>\n",
       "    .dataframe tbody tr th:only-of-type {\n",
       "        vertical-align: middle;\n",
       "    }\n",
       "\n",
       "    .dataframe tbody tr th {\n",
       "        vertical-align: top;\n",
       "    }\n",
       "\n",
       "    .dataframe thead th {\n",
       "        text-align: right;\n",
       "    }\n",
       "</style>\n",
       "<table border=\"1\" class=\"dataframe\">\n",
       "  <thead>\n",
       "    <tr style=\"text-align: right;\">\n",
       "      <th></th>\n",
       "      <th>deltahour</th>\n",
       "      <th>Ni</th>\n",
       "      <th>startDate</th>\n",
       "      <th>endingDate</th>\n",
       "      <th>BotMax</th>\n",
       "    </tr>\n",
       "  </thead>\n",
       "  <tbody>\n",
       "    <tr>\n",
       "      <th>0</th>\n",
       "      <td>12h</td>\n",
       "      <td>N</td>\n",
       "      <td>2023-05-01 00:00:00</td>\n",
       "      <td>2023-05-10 00:00:00</td>\n",
       "      <td>0.573131</td>\n",
       "    </tr>\n",
       "    <tr>\n",
       "      <th>1</th>\n",
       "      <td>12h</td>\n",
       "      <td>N-1</td>\n",
       "      <td>2023-05-01 00:00:00</td>\n",
       "      <td>2023-05-10 00:00:00</td>\n",
       "      <td>0.573131</td>\n",
       "    </tr>\n",
       "    <tr>\n",
       "      <th>2</th>\n",
       "      <td>12h</td>\n",
       "      <td>N-2</td>\n",
       "      <td>2023-05-01 00:00:00</td>\n",
       "      <td>2023-05-10 00:00:00</td>\n",
       "      <td>0.573131</td>\n",
       "    </tr>\n",
       "    <tr>\n",
       "      <th>3</th>\n",
       "      <td>2h</td>\n",
       "      <td>N</td>\n",
       "      <td>2023-05-01 00:00:00</td>\n",
       "      <td>2023-05-10 00:00:00</td>\n",
       "      <td>0.607870</td>\n",
       "    </tr>\n",
       "    <tr>\n",
       "      <th>4</th>\n",
       "      <td>2h</td>\n",
       "      <td>N-1</td>\n",
       "      <td>2023-05-01 00:00:00</td>\n",
       "      <td>2023-05-10 00:00:00</td>\n",
       "      <td>0.607870</td>\n",
       "    </tr>\n",
       "    <tr>\n",
       "      <th>5</th>\n",
       "      <td>2h</td>\n",
       "      <td>N-2</td>\n",
       "      <td>2023-05-01 00:00:00</td>\n",
       "      <td>2023-05-10 00:00:00</td>\n",
       "      <td>0.607870</td>\n",
       "    </tr>\n",
       "    <tr>\n",
       "      <th>6</th>\n",
       "      <td>4h</td>\n",
       "      <td>N</td>\n",
       "      <td>2023-05-01 00:00:00</td>\n",
       "      <td>2023-05-10 00:00:00</td>\n",
       "      <td>0.580130</td>\n",
       "    </tr>\n",
       "    <tr>\n",
       "      <th>7</th>\n",
       "      <td>4h</td>\n",
       "      <td>N-1</td>\n",
       "      <td>2023-05-01 00:00:00</td>\n",
       "      <td>2023-05-10 00:00:00</td>\n",
       "      <td>0.580130</td>\n",
       "    </tr>\n",
       "    <tr>\n",
       "      <th>8</th>\n",
       "      <td>4h</td>\n",
       "      <td>N-2</td>\n",
       "      <td>2023-05-01 00:00:00</td>\n",
       "      <td>2023-05-10 00:00:00</td>\n",
       "      <td>0.580130</td>\n",
       "    </tr>\n",
       "    <tr>\n",
       "      <th>9</th>\n",
       "      <td>8h</td>\n",
       "      <td>N</td>\n",
       "      <td>2023-05-01 00:00:00</td>\n",
       "      <td>2023-05-10 00:00:00</td>\n",
       "      <td>0.552806</td>\n",
       "    </tr>\n",
       "    <tr>\n",
       "      <th>10</th>\n",
       "      <td>8h</td>\n",
       "      <td>N-1</td>\n",
       "      <td>2023-05-01 00:00:00</td>\n",
       "      <td>2023-05-10 00:00:00</td>\n",
       "      <td>0.552806</td>\n",
       "    </tr>\n",
       "    <tr>\n",
       "      <th>11</th>\n",
       "      <td>8h</td>\n",
       "      <td>N-2</td>\n",
       "      <td>2023-05-01 00:00:00</td>\n",
       "      <td>2023-05-10 00:00:00</td>\n",
       "      <td>0.552806</td>\n",
       "    </tr>\n",
       "  </tbody>\n",
       "</table>\n",
       "</div>"
      ],
      "text/plain": [
       "   deltahour   Ni            startDate           endingDate    BotMax\n",
       "0        12h    N  2023-05-01 00:00:00  2023-05-10 00:00:00  0.573131\n",
       "1        12h  N-1  2023-05-01 00:00:00  2023-05-10 00:00:00  0.573131\n",
       "2        12h  N-2  2023-05-01 00:00:00  2023-05-10 00:00:00  0.573131\n",
       "3         2h    N  2023-05-01 00:00:00  2023-05-10 00:00:00  0.607870\n",
       "4         2h  N-1  2023-05-01 00:00:00  2023-05-10 00:00:00  0.607870\n",
       "5         2h  N-2  2023-05-01 00:00:00  2023-05-10 00:00:00  0.607870\n",
       "6         4h    N  2023-05-01 00:00:00  2023-05-10 00:00:00  0.580130\n",
       "7         4h  N-1  2023-05-01 00:00:00  2023-05-10 00:00:00  0.580130\n",
       "8         4h  N-2  2023-05-01 00:00:00  2023-05-10 00:00:00  0.580130\n",
       "9         8h    N  2023-05-01 00:00:00  2023-05-10 00:00:00  0.552806\n",
       "10        8h  N-1  2023-05-01 00:00:00  2023-05-10 00:00:00  0.552806\n",
       "11        8h  N-2  2023-05-01 00:00:00  2023-05-10 00:00:00  0.552806"
      ]
     },
     "execution_count": 20,
     "metadata": {},
     "output_type": "execute_result"
    }
   ],
   "source": [
    "df_grouped"
   ]
  },
  {
   "cell_type": "markdown",
   "metadata": {},
   "source": [
    "# Bug de téléchargement des données."
   ]
  },
  {
   "cell_type": "code",
   "execution_count": 5,
   "metadata": {
    "ExecuteTime": {
     "end_time": "2023-06-08T10:13:22.612765319Z",
     "start_time": "2023-06-08T10:12:03.535281629Z"
    }
   },
   "outputs": [
    {
     "name": "stdout",
     "output_type": "stream",
     "text": [
      "node ./database/dl_for_quick_analysis.js \"2023-01-01\" \"10:00:00\"\n",
      "Downloading Started, Please wait!\n",
      "Donwloading Finished\n",
      "Command executed successfully.\n",
      "All data loaded\n"
     ]
    }
   ],
   "source": [
    "import pandas as pd\n",
    "\n",
    "from utilities.Functionnalities import *\n",
    "import warnings\n",
    "warnings.filterwarnings(\"ignore\")\n",
    "\n",
    "# entries\n",
    "dateObservation = 24\n",
    "nbPool = 6\n",
    "delta_hour = \"8h\"\n",
    "n_i = \"N\"\n",
    "star_time = \"2023-01-01\"\n",
    "hour = \"10:00:00\"\n",
    "ending_time = \"2023-01-02\"\n",
    "\n",
    "\n",
    "data = {'current_date': pd.to_datetime(['2020-01-02 10:00:00']),\n",
    "        'pool': [['BNB', 'ATD', 'ACC']]}\n",
    "df = pd.DataFrame(data)\n",
    "df.set_index('current_date', inplace=True)\n",
    "df.drop(df.index, inplace=True)\n",
    "\n",
    "command = 'node ./database/dl_for_quick_analysis.js'\n",
    "path = \"./database/quick_analysis\"\n",
    "ennDate = f\"{ending_time} {hour}\"\n",
    "sttDate = f\"{star_time} {hour}\"\n",
    "start_date = datetime.strptime(sttDate, \"%Y-%m-%d %H:%M:%S\")\n",
    "end_date = datetime.strptime(ennDate, \"%Y-%m-%d %H:%M:%S\")\n",
    "\n",
    "current_date = start_date\n",
    "\n",
    "execute_terminal_command2(command, current_date.strftime(\"%Y-%m-%d\"), hour)\n",
    "#remove unecessary files just keep the csv files\n",
    "remove_non_csv_files(path)\n",
    "#Process Started\n",
    "file_list = [f for f in listdir(path) if isfile(join(path, f))]\n",
    "df_list = {}\n",
    "for file in file_list:\n",
    "    df_list[file[:-9]] = get_historical_from_path(path + \"/\" + file)\n",
    "print(\"All data loaded\")\n",
    "\n",
    "df_metric = get_analyisis_from_window(df_list,dateObservation).sort_values(by=\"volume_evolution\", ascending=False)\n",
    "dfVe = df_metric.iloc[:nbPool]"
   ]
  },
  {
   "cell_type": "code",
   "execution_count": 5,
   "metadata": {
    "ExecuteTime": {
     "end_time": "2023-06-08T09:37:52.864229456Z",
     "start_time": "2023-06-08T09:37:52.850898811Z"
    }
   },
   "outputs": [
    {
     "name": "stdout",
     "output_type": "stream",
     "text": [
      "RAD-USDT     13.85\n",
      "SYS          10.08\n",
      "SKL-USDT      9.86\n",
      "DUSK-USDT     9.31\n",
      "CELR-USDT     7.92\n",
      "ZEN           7.29\n",
      "Name: volume_evolution, dtype: float64\n"
     ]
    }
   ],
   "source": [
    "print(dfVe['volume_evolution'])\n",
    "print(current_date)\n",
    "#star_time = \"2023-01-01\""
   ]
  },
  {
   "cell_type": "code",
   "execution_count": 7,
   "metadata": {
    "ExecuteTime": {
     "end_time": "2023-06-08T09:39:34.426318968Z",
     "start_time": "2023-06-08T09:39:34.383588102Z"
    }
   },
   "outputs": [
    {
     "name": "stdout",
     "output_type": "stream",
     "text": [
      "SXP-USDT     15.86\n",
      "RAD-USDT     13.85\n",
      "FIRO         13.16\n",
      "SXP          11.50\n",
      "KEY           9.61\n",
      "DUSK-USDT     9.16\n",
      "Name: volume_evolution, dtype: float64\n"
     ]
    }
   ],
   "source": [
    "print(dfVe['volume_evolution'])\n",
    "print(current_date)\n",
    "#star_time = \"2023-01-02\""
   ]
  },
  {
   "cell_type": "code",
   "execution_count": 9,
   "metadata": {
    "ExecuteTime": {
     "end_time": "2023-06-08T09:40:05.767164013Z",
     "start_time": "2023-06-08T09:40:05.761940335Z"
    }
   },
   "outputs": [
    {
     "name": "stdout",
     "output_type": "stream",
     "text": [
      "AUTO        2.48\n",
      "AMB-USDT    1.31\n",
      "ACH         1.16\n",
      "AGLD        1.07\n",
      "ACM         0.79\n",
      "AR-USDT     0.77\n",
      "Name: volume_evolution, dtype: float64\n"
     ]
    }
   ],
   "source": [
    "print(dfVe['volume_evolution'])\n",
    "print(current_date)\n",
    "#star_time = \"2023-01-01\""
   ]
  },
  {
   "cell_type": "code",
   "execution_count": 11,
   "metadata": {
    "ExecuteTime": {
     "end_time": "2023-06-08T09:41:14.327440520Z",
     "start_time": "2023-06-08T09:41:14.322382566Z"
    }
   },
   "outputs": [
    {
     "name": "stdout",
     "output_type": "stream",
     "text": [
      "AUTO         3.86\n",
      "AGLD         3.28\n",
      "BEAM         2.32\n",
      "ARPA-USDT    2.17\n",
      "ATA-USDT     1.64\n",
      "AR-USDT      1.40\n",
      "Name: volume_evolution, dtype: float64\n"
     ]
    }
   ],
   "source": [
    "print(dfVe['volume_evolution'])\n",
    "print(current_date)\n",
    "#star_time = \"2023-01-01\""
   ]
  },
  {
   "cell_type": "code",
   "execution_count": 2,
   "metadata": {
    "ExecuteTime": {
     "end_time": "2023-06-08T10:10:53.457152715Z",
     "start_time": "2023-06-08T10:10:53.452837830Z"
    }
   },
   "outputs": [
    {
     "name": "stdout",
     "output_type": "stream",
     "text": [
      "RAD-USDT     13.62\n",
      "SYS          10.08\n",
      "SKL-USDT      9.86\n",
      "DUSK-USDT     9.31\n",
      "CELR-USDT     7.92\n",
      "ZEN           7.29\n",
      "Name: volume_evolution, dtype: float64\n"
     ]
    }
   ],
   "source": [
    "print(dfVe['volume_evolution'])\n",
    "print(current_date)\n",
    "#star_time = \"2023-01-01\""
   ]
  },
  {
   "cell_type": "code",
   "execution_count": 4,
   "metadata": {},
   "outputs": [
    {
     "name": "stdout",
     "output_type": "stream",
     "text": [
      "AUTO         3.86\n",
      "AGLD         3.28\n",
      "BEAM         2.32\n",
      "ARPA-USDT    2.17\n",
      "ATA-USDT     1.64\n",
      "ATA          1.40\n",
      "Name: volume_evolution, dtype: float64\n"
     ]
    }
   ],
   "source": [
    "print(dfVe['volume_evolution'])\n",
    "print(current_date)\n",
    "#star_time = \"2023-01-01\""
   ]
  },
  {
   "cell_type": "code",
   "execution_count": 7,
   "metadata": {},
   "outputs": [
    {
     "name": "stdout",
     "output_type": "stream",
     "text": [
      "RAD-USDT     13.62\n",
      "SYS          10.08\n",
      "SKL-USDT      9.86\n",
      "DUSK-USDT     9.31\n",
      "CELR-USDT     7.92\n",
      "ZEN           7.29\n",
      "Name: volume_evolution, dtype: float64\n",
      "2023-01-01 10:00:00\n"
     ]
    }
   ],
   "source": [
    "print(dfVe['volume_evolution'])\n",
    "print(current_date)\n",
    "#star_time = \"2023-01-01\""
   ]
  },
  {
   "cell_type": "code",
   "execution_count": null,
   "metadata": {},
   "outputs": [],
   "source": []
  }
 ],
 "metadata": {
  "kernelspec": {
   "display_name": "Python 3 (ipykernel)",
   "language": "python",
   "name": "python3"
  },
  "language_info": {
   "codemirror_mode": {
    "name": "ipython",
    "version": 3
   },
   "file_extension": ".py",
   "mimetype": "text/x-python",
   "name": "python",
   "nbconvert_exporter": "python",
   "pygments_lexer": "ipython3",
   "version": "3.10.6"
  }
 },
 "nbformat": 4,
 "nbformat_minor": 1
}
