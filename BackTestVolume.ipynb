{
 "cells": [
  {
   "cell_type": "markdown",
   "source": [
    "# Import bibs"
   ],
   "metadata": {
    "collapsed": false
   }
  },
  {
   "cell_type": "code",
   "execution_count": 18,
   "metadata": {
    "pycharm": {
     "name": "#%%\n"
    },
    "ExecuteTime": {
     "end_time": "2023-06-04T17:04:47.513932387Z",
     "start_time": "2023-06-04T17:04:47.474459517Z"
    }
   },
   "outputs": [],
   "source": [
    "from utilities.Functionnalities import *"
   ]
  },
  {
   "cell_type": "markdown",
   "source": [
    "## download node modules to use for collecting data with nodejs\n",
    "### npm install ccxt\n",
    "### npm install csv-writer"
   ],
   "metadata": {
    "collapsed": false
   }
  },
  {
   "cell_type": "code",
   "execution_count": 19,
   "metadata": {
    "pycharm": {
     "name": "#%%\n"
    },
    "ExecuteTime": {
     "end_time": "2023-06-04T17:04:47.610759511Z",
     "start_time": "2023-06-04T17:04:47.484666670Z"
    }
   },
   "outputs": [
    {
     "name": "stdout",
     "output_type": "stream",
     "text": [
      "ccxt is already installed.\n"
     ]
    }
   ],
   "source": [
    "install_package_if_needed(\"ccxt\")"
   ]
  },
  {
   "cell_type": "code",
   "execution_count": 20,
   "metadata": {
    "pycharm": {
     "name": "#%%\n"
    },
    "ExecuteTime": {
     "end_time": "2023-06-04T17:04:47.612709147Z",
     "start_time": "2023-06-04T17:04:47.582895987Z"
    }
   },
   "outputs": [
    {
     "name": "stdout",
     "output_type": "stream",
     "text": [
      "csv-writer is already installed.\n"
     ]
    }
   ],
   "source": [
    "install_package_if_needed(\"csv-writer\")"
   ]
  },
  {
   "cell_type": "markdown",
   "source": [
    "## collecting data with nodejs\n",
    "### node ./database/dl_for_quick_analysis.js"
   ],
   "metadata": {
    "collapsed": false
   }
  },
  {
   "cell_type": "code",
   "execution_count": 21,
   "metadata": {
    "pycharm": {
     "name": "#%%\n"
    },
    "ExecuteTime": {
     "end_time": "2023-06-04T17:05:33.813426939Z",
     "start_time": "2023-06-04T17:04:47.592452348Z"
    }
   },
   "outputs": [
    {
     "name": "stdout",
     "output_type": "stream",
     "text": [
      "database/quick_analysis is deleted!\n",
      "\n",
      "Loading 1/590 coins downloaded\n",
      "Loading 2/590 coins downloaded\n",
      "Loading 3/590 coins downloaded\n",
      "Loading 4/590 coins downloaded\n",
      "Loading 5/590 coins downloaded\n",
      "Loading 6/590 coins downloaded\n",
      "Loading 7/590 coins downloaded\n",
      "Loading 8/590 coins downloaded\n",
      "Loading 9/590 coins downloaded\n",
      "Loading 10/590 coins downloaded\n",
      "Loading 11/590 coins downloaded\n",
      "Loading 12/590 coins downloaded\n",
      "Loading 13/590 coins downloaded\n",
      "Loading 14/590 coins downloaded\n",
      "Loading 15/590 coins downloaded\n",
      "Loading 16/590 coins downloaded\n",
      "Loading 17/590 coins downloaded\n",
      "Loading 18/590 coins downloaded\n",
      "Loading 19/590 coins downloaded\n",
      "Loading 20/590 coins downloaded\n",
      "Loading 21/590 coins downloaded\n",
      "Loading 22/590 coins downloaded\n",
      "Loading 23/590 coins downloaded\n",
      "Loading 24/590 coins downloaded\n",
      "Loading 25/590 coins downloaded\n",
      "Loading 26/590 coins downloaded\n",
      "Loading 27/590 coins downloaded\n",
      "Loading 28/590 coins downloaded\n",
      "Loading 29/590 coins downloaded\n",
      "Loading 30/590 coins downloaded\n",
      "Loading 31/590 coins downloaded\n",
      "Loading 32/590 coins downloaded\n",
      "Loading 33/590 coins downloaded\n",
      "Loading 34/590 coins downloaded\n",
      "Loading 35/590 coins downloaded\n",
      "Loading 36/590 coins downloaded\n",
      "Loading 37/590 coins downloaded\n",
      "Loading 38/590 coins downloaded\n",
      "Loading 39/590 coins downloaded\n",
      "Loading 40/590 coins downloaded\n",
      "Loading 41/590 coins downloaded\n",
      "Loading 42/590 coins downloaded\n",
      "Loading 43/590 coins downloaded\n",
      "Loading 44/590 coins downloaded\n",
      "Loading 45/590 coins downloaded\n",
      "Loading 46/590 coins downloaded\n",
      "Loading 47/590 coins downloaded\n",
      "Loading 48/590 coins downloaded\n",
      "Loading 49/590 coins downloaded\n",
      "Loading 50/590 coins downloaded\n",
      "Loading 51/590 coins downloaded\n",
      "Loading 52/590 coins downloaded\n",
      "Loading 53/590 coins downloaded\n",
      "Loading 54/590 coins downloaded\n",
      "Loading 55/590 coins downloaded\n",
      "Loading 56/590 coins downloaded\n",
      "Loading 57/590 coins downloaded\n",
      "Loading 58/590 coins downloaded\n",
      "Loading 59/590 coins downloaded\n",
      "Loading 60/590 coins downloaded\n",
      "Loading 61/590 coins downloaded\n",
      "Loading 62/590 coins downloaded\n",
      "Loading 63/590 coins downloaded\n",
      "Loading 64/590 coins downloaded\n",
      "Loading 65/590 coins downloaded\n",
      "Loading 66/590 coins downloaded\n",
      "Loading 67/590 coins downloaded\n",
      "Loading 68/590 coins downloaded\n",
      "Loading 69/590 coins downloaded\n",
      "Loading 70/590 coins downloaded\n",
      "Loading 71/590 coins downloaded\n",
      "Loading 72/590 coins downloaded\n",
      "Loading 73/590 coins downloaded\n",
      "Loading 74/590 coins downloaded\n",
      "Loading 75/590 coins downloaded\n",
      "Loading 76/590 coins downloaded\n",
      "Loading 77/590 coins downloaded\n",
      "Loading 78/590 coins downloaded\n",
      "Loading 79/590 coins downloaded\n",
      "Loading 80/590 coins downloaded\n",
      "Loading 81/590 coins downloaded\n",
      "Loading 82/590 coins downloaded\n",
      "Loading 83/590 coins downloaded\n",
      "Loading 84/590 coins downloaded\n",
      "Loading 85/590 coins downloaded\n",
      "Loading 86/590 coins downloaded\n",
      "Loading 87/590 coins downloaded\n",
      "Loading 88/590 coins downloaded\n",
      "Loading 89/590 coins downloaded\n",
      "Loading 90/590 coins downloaded\n",
      "Loading 91/590 coins downloaded\n",
      "Loading 92/590 coins downloaded\n",
      "Loading 93/590 coins downloaded\n",
      "Loading 94/590 coins downloaded\n",
      "Loading 95/590 coins downloaded\n",
      "Loading 96/590 coins downloaded\n",
      "Loading 97/590 coins downloaded\n",
      "Loading 98/590 coins downloaded\n",
      "Loading 99/590 coins downloaded\n",
      "Loading 100/590 coins downloaded\n",
      "Loading 101/590 coins downloaded\n",
      "Loading 102/590 coins downloaded\n",
      "Loading 103/590 coins downloaded\n",
      "Loading 104/590 coins downloaded\n",
      "Loading 105/590 coins downloaded\n",
      "Loading 106/590 coins downloaded\n",
      "Loading 107/590 coins downloaded\n",
      "Loading 108/590 coins downloaded\n",
      "Loading 109/590 coins downloaded\n",
      "Loading 110/590 coins downloaded\n",
      "Loading 111/590 coins downloaded\n",
      "Loading 112/590 coins downloaded\n",
      "Loading 113/590 coins downloaded\n",
      "Loading 114/590 coins downloaded\n",
      "Loading 115/590 coins downloaded\n",
      "Loading 116/590 coins downloaded\n",
      "Loading 117/590 coins downloaded\n",
      "Loading 118/590 coins downloaded\n",
      "Loading 119/590 coins downloaded\n",
      "Loading 120/590 coins downloaded\n",
      "Loading 121/590 coins downloaded\n",
      "Loading 122/590 coins downloaded\n",
      "Loading 123/590 coins downloaded\n",
      "Loading 124/590 coins downloaded\n",
      "Loading 125/590 coins downloaded\n",
      "Loading 126/590 coins downloaded\n",
      "Loading 127/590 coins downloaded\n",
      "Loading 128/590 coins downloaded\n",
      "Loading 129/590 coins downloaded\n",
      "Loading 130/590 coins downloaded\n",
      "Loading 131/590 coins downloaded\n",
      "Loading 132/590 coins downloaded\n",
      "Loading 133/590 coins downloaded\n",
      "Loading 134/590 coins downloaded\n",
      "Loading 135/590 coins downloaded\n",
      "Loading 136/590 coins downloaded\n",
      "Loading 137/590 coins downloaded\n",
      "Loading 138/590 coins downloaded\n",
      "Loading 139/590 coins downloaded\n",
      "Loading 140/590 coins downloaded\n",
      "Loading 141/590 coins downloaded\n",
      "Loading 142/590 coins downloaded\n",
      "Loading 143/590 coins downloaded\n",
      "Loading 144/590 coins downloaded\n",
      "Loading 145/590 coins downloaded\n",
      "Loading 146/590 coins downloaded\n",
      "Loading 147/590 coins downloaded\n",
      "Loading 148/590 coins downloaded\n",
      "Loading 149/590 coins downloaded\n",
      "Loading 150/590 coins downloaded\n",
      "Loading 151/590 coins downloaded\n",
      "Loading 152/590 coins downloaded\n",
      "Loading 153/590 coins downloaded\n",
      "Loading 154/590 coins downloaded\n",
      "Loading 155/590 coins downloaded\n",
      "Loading 156/590 coins downloaded\n",
      "Loading 157/590 coins downloaded\n",
      "Loading 158/590 coins downloaded\n",
      "Loading 159/590 coins downloaded\n",
      "Loading 160/590 coins downloaded\n",
      "Loading 161/590 coins downloaded\n",
      "Loading 162/590 coins downloaded\n",
      "Loading 163/590 coins downloaded\n",
      "Loading 164/590 coins downloaded\n",
      "Loading 165/590 coins downloaded\n",
      "Loading 166/590 coins downloaded\n",
      "Loading 167/590 coins downloaded\n",
      "Loading 168/590 coins downloaded\n",
      "Loading 169/590 coins downloaded\n",
      "Loading 170/590 coins downloaded\n",
      "Loading 171/590 coins downloaded\n",
      "Loading 172/590 coins downloaded\n",
      "Loading 173/590 coins downloaded\n",
      "Loading 174/590 coins downloaded\n",
      "Loading 175/590 coins downloaded\n",
      "Loading 176/590 coins downloaded\n",
      "Loading 177/590 coins downloaded\n",
      "Loading 178/590 coins downloaded\n",
      "Loading 179/590 coins downloaded\n",
      "Loading 180/590 coins downloaded\n",
      "Loading 181/590 coins downloaded\n",
      "Loading 182/590 coins downloaded\n",
      "Loading 183/590 coins downloaded\n",
      "Loading 184/590 coins downloaded\n",
      "Loading 185/590 coins downloaded\n",
      "Loading 186/590 coins downloaded\n",
      "Loading 187/590 coins downloaded\n",
      "Loading 188/590 coins downloaded\n",
      "Loading 189/590 coins downloaded\n",
      "Loading 190/590 coins downloaded\n",
      "Loading 191/590 coins downloaded\n",
      "Loading 192/590 coins downloaded\n",
      "Loading 193/590 coins downloaded\n",
      "Loading 194/590 coins downloaded\n",
      "Loading 195/590 coins downloaded\n",
      "Loading 196/590 coins downloaded\n",
      "Loading 197/590 coins downloaded\n",
      "Loading 198/590 coins downloaded\n",
      "Loading 199/590 coins downloaded\n",
      "Loading 200/590 coins downloaded\n",
      "Loading 201/590 coins downloaded\n",
      "Loading 202/590 coins downloaded\n",
      "Loading 203/590 coins downloaded\n",
      "Loading 204/590 coins downloaded\n",
      "Loading 205/590 coins downloaded\n",
      "Loading 206/590 coins downloaded\n",
      "Loading 207/590 coins downloaded\n",
      "Loading 208/590 coins downloaded\n",
      "Loading 209/590 coins downloaded\n",
      "Loading 210/590 coins downloaded\n",
      "Loading 211/590 coins downloaded\n",
      "Loading 212/590 coins downloaded\n",
      "Loading 213/590 coins downloaded\n",
      "Loading 214/590 coins downloaded\n",
      "Loading 215/590 coins downloaded\n",
      "Loading 216/590 coins downloaded\n",
      "Loading 217/590 coins downloaded\n",
      "Loading 218/590 coins downloaded\n",
      "Loading 219/590 coins downloaded\n",
      "Loading 220/590 coins downloaded\n",
      "Loading 221/590 coins downloaded\n",
      "Loading 222/590 coins downloaded\n",
      "Loading 223/590 coins downloaded\n",
      "Loading 224/590 coins downloaded\n",
      "Loading 225/590 coins downloaded\n",
      "Loading 226/590 coins downloaded\n",
      "Loading 227/590 coins downloaded\n",
      "Loading 228/590 coins downloaded\n",
      "Loading 229/590 coins downloaded\n",
      "Loading 230/590 coins downloaded\n",
      "Loading 231/590 coins downloaded\n",
      "Loading 232/590 coins downloaded\n",
      "Loading 233/590 coins downloaded\n",
      "Loading 234/590 coins downloaded\n",
      "Loading 235/590 coins downloaded\n",
      "Loading 236/590 coins downloaded\n",
      "Loading 237/590 coins downloaded\n",
      "Loading 238/590 coins downloaded\n",
      "Loading 239/590 coins downloaded\n",
      "Loading 240/590 coins downloaded\n",
      "Loading 241/590 coins downloaded\n",
      "Loading 242/590 coins downloaded\n",
      "Loading 243/590 coins downloaded\n",
      "Loading 244/590 coins downloaded\n",
      "Loading 245/590 coins downloaded\n",
      "Loading 246/590 coins downloaded\n",
      "Loading 247/590 coins downloaded\n",
      "Loading 248/590 coins downloaded\n",
      "Loading 249/590 coins downloaded\n",
      "Loading 250/590 coins downloaded\n",
      "Loading 251/590 coins downloaded\n",
      "Loading 252/590 coins downloaded\n",
      "Loading 253/590 coins downloaded\n",
      "Loading 254/590 coins downloaded\n",
      "Loading 255/590 coins downloaded\n",
      "Loading 256/590 coins downloaded\n",
      "Loading 257/590 coins downloaded\n",
      "Loading 258/590 coins downloaded\n",
      "Loading 259/590 coins downloaded\n",
      "Loading 260/590 coins downloaded\n",
      "Loading 261/590 coins downloaded\n",
      "Loading 262/590 coins downloaded\n",
      "Loading 263/590 coins downloaded\n",
      "Loading 264/590 coins downloaded\n",
      "Loading 265/590 coins downloaded\n",
      "Loading 266/590 coins downloaded\n",
      "Loading 267/590 coins downloaded\n",
      "Loading 268/590 coins downloaded\n",
      "Loading 269/590 coins downloaded\n",
      "Loading 270/590 coins downloaded\n",
      "Loading 271/590 coins downloaded\n",
      "Loading 272/590 coins downloaded\n",
      "Loading 273/590 coins downloaded\n",
      "Loading 274/590 coins downloaded\n",
      "Loading 275/590 coins downloaded\n",
      "Loading 276/590 coins downloaded\n",
      "Loading 277/590 coins downloaded\n",
      "Loading 278/590 coins downloaded\n",
      "Loading 279/590 coins downloaded\n",
      "Loading 280/590 coins downloaded\n",
      "Loading 281/590 coins downloaded\n",
      "Loading 282/590 coins downloaded\n",
      "Loading 283/590 coins downloaded\n",
      "Loading 284/590 coins downloaded\n",
      "Loading 285/590 coins downloaded\n",
      "Loading 286/590 coins downloaded\n",
      "Loading 287/590 coins downloaded\n",
      "Loading 288/590 coins downloaded\n",
      "Loading 289/590 coins downloaded\n",
      "Loading 290/590 coins downloaded\n",
      "Loading 291/590 coins downloaded\n",
      "Loading 292/590 coins downloaded\n",
      "Loading 293/590 coins downloaded\n",
      "Loading 294/590 coins downloaded\n",
      "Loading 295/590 coins downloaded\n",
      "Loading 296/590 coins downloaded\n",
      "Loading 297/590 coins downloaded\n",
      "Loading 298/590 coins downloaded\n",
      "Loading 299/590 coins downloaded\n",
      "Loading 300/590 coins downloaded\n",
      "Loading 301/590 coins downloaded\n",
      "Loading 302/590 coins downloaded\n",
      "Loading 303/590 coins downloaded\n",
      "Loading 304/590 coins downloaded\n",
      "Loading 305/590 coins downloaded\n",
      "Loading 306/590 coins downloaded\n",
      "Loading 307/590 coins downloaded\n",
      "Loading 308/590 coins downloaded\n",
      "Command execution failed with return code: 1\n"
     ]
    }
   ],
   "source": [
    "command = 'node ./database/dl_for_quick_analysis.js'\n",
    "execute_terminal_command(command)"
   ]
  },
  {
   "cell_type": "markdown",
   "source": [
    "## remove unecessary files\n",
    "### just keep the csv files"
   ],
   "metadata": {
    "collapsed": false
   }
  },
  {
   "cell_type": "code",
   "execution_count": 22,
   "metadata": {
    "pycharm": {
     "name": "#%%\n"
    },
    "ExecuteTime": {
     "end_time": "2023-06-04T17:05:33.830958078Z",
     "start_time": "2023-06-04T17:05:33.762115873Z"
    }
   },
   "outputs": [],
   "source": [
    "directory_path = \"./database/quick_analysis\"\n",
    "remove_non_csv_files(directory_path)"
   ]
  },
  {
   "cell_type": "markdown",
   "source": [
    "# Process Started"
   ],
   "metadata": {
    "collapsed": false
   }
  },
  {
   "cell_type": "code",
   "execution_count": 23,
   "metadata": {
    "pycharm": {
     "name": "#%%\n"
    },
    "ExecuteTime": {
     "end_time": "2023-06-04T17:05:35.021937961Z",
     "start_time": "2023-06-04T17:05:33.762403025Z"
    }
   },
   "outputs": [
    {
     "name": "stdout",
     "output_type": "stream",
     "text": [
      "All data loaded\n"
     ]
    }
   ],
   "source": [
    "mypath = \"./database/quick_analysis\"\n",
    "file_list = [f for f in listdir(mypath) if isfile(join(mypath, f))]\n",
    "df_list = {}\n",
    "for file in file_list:\n",
    "    df_list[file[:-9]] = get_historical_from_path(mypath+\"/\"+file)\n",
    "\n",
    "print(\"All data loaded\")"
   ]
  },
  {
   "cell_type": "markdown",
   "source": [
    "Variables"
   ],
   "metadata": {
    "collapsed": false
   }
  },
  {
   "cell_type": "code",
   "execution_count": 24,
   "outputs": [],
   "source": [
    "# entries\n",
    "dateObservation = 24\n",
    "nbPool = 6\n",
    "delta_hour = \"8h\"\n",
    "n_i = \"N\"\n",
    "star_time = \"2023-01-01\"\n",
    "star_hour = \"10:00:00\"\n",
    "end_time = \"2023-03-03\"\n",
    "end_hour = \"15:00:00\""
   ],
   "metadata": {
    "collapsed": false,
    "ExecuteTime": {
     "end_time": "2023-06-04T17:05:35.037936700Z",
     "start_time": "2023-06-04T17:05:35.002173446Z"
    }
   }
  },
  {
   "cell_type": "code",
   "execution_count": 25,
   "outputs": [],
   "source": [
    "sttDate = f\"{star_time} {star_hour}\"\n",
    "ennDate = f\"{end_time} {end_hour}\"\n",
    "client = Client()\n",
    "crypto = {}"
   ],
   "metadata": {
    "collapsed": false,
    "ExecuteTime": {
     "end_time": "2023-06-04T17:05:35.872381029Z",
     "start_time": "2023-06-04T17:05:35.002383497Z"
    }
   }
  },
  {
   "cell_type": "code",
   "execution_count": 26,
   "metadata": {
    "pycharm": {
     "name": "#%%\n"
    },
    "ExecuteTime": {
     "end_time": "2023-06-04T17:05:40.184221612Z",
     "start_time": "2023-06-04T17:05:35.878812468Z"
    }
   },
   "outputs": [
    {
     "name": "stderr",
     "output_type": "stream",
     "text": [
      "/home/keranis/work&study/Stage/utilities/Functionnalities.py:273: RuntimeWarning: invalid value encountered in scalar divide\n",
      "  return_vs_vol = perf / volatility\n",
      "/home/keranis/work&study/Stage/utilities/Functionnalities.py:275: RuntimeWarning: invalid value encountered in scalar divide\n",
      "  volume_evolution = last_volume / mean_volume\n",
      "/home/keranis/work&study/Stage/utilities/Functionnalities.py:278: RuntimeWarning: invalid value encountered in scalar divide\n",
      "  volatility_evolution = last_volatility / volatility\n",
      "/home/keranis/work&study/Stage/utilities/Functionnalities.py:279: RuntimeWarning: invalid value encountered in scalar divide\n",
      "  last_return_vs_vol = last_perf / last_volatility\n",
      "/home/keranis/work&study/Stage/utilities/Functionnalities.py:273: RuntimeWarning: invalid value encountered in scalar divide\n",
      "  return_vs_vol = perf / volatility\n",
      "/home/keranis/work&study/Stage/utilities/Functionnalities.py:275: RuntimeWarning: invalid value encountered in scalar divide\n",
      "  volume_evolution = last_volume / mean_volume\n",
      "/home/keranis/work&study/Stage/utilities/Functionnalities.py:278: RuntimeWarning: invalid value encountered in scalar divide\n",
      "  volatility_evolution = last_volatility / volatility\n",
      "/home/keranis/work&study/Stage/utilities/Functionnalities.py:279: RuntimeWarning: invalid value encountered in scalar divide\n",
      "  last_return_vs_vol = last_perf / last_volatility\n",
      "/home/keranis/work&study/Stage/utilities/Functionnalities.py:273: RuntimeWarning: invalid value encountered in scalar divide\n",
      "  return_vs_vol = perf / volatility\n",
      "/home/keranis/work&study/Stage/utilities/Functionnalities.py:275: RuntimeWarning: invalid value encountered in scalar divide\n",
      "  volume_evolution = last_volume / mean_volume\n",
      "/home/keranis/work&study/Stage/utilities/Functionnalities.py:278: RuntimeWarning: invalid value encountered in scalar divide\n",
      "  volatility_evolution = last_volatility / volatility\n",
      "/home/keranis/work&study/Stage/utilities/Functionnalities.py:279: RuntimeWarning: invalid value encountered in scalar divide\n",
      "  last_return_vs_vol = last_perf / last_volatility\n",
      "/home/keranis/work&study/Stage/utilities/Functionnalities.py:279: RuntimeWarning: invalid value encountered in scalar divide\n",
      "  last_return_vs_vol = last_perf / last_volatility\n",
      "/home/keranis/work&study/Stage/utilities/Functionnalities.py:273: RuntimeWarning: invalid value encountered in scalar divide\n",
      "  return_vs_vol = perf / volatility\n",
      "/home/keranis/work&study/Stage/utilities/Functionnalities.py:275: RuntimeWarning: invalid value encountered in scalar divide\n",
      "  volume_evolution = last_volume / mean_volume\n",
      "/home/keranis/work&study/Stage/utilities/Functionnalities.py:278: RuntimeWarning: invalid value encountered in scalar divide\n",
      "  volatility_evolution = last_volatility / volatility\n",
      "/home/keranis/work&study/Stage/utilities/Functionnalities.py:279: RuntimeWarning: invalid value encountered in scalar divide\n",
      "  last_return_vs_vol = last_perf / last_volatility\n",
      "/home/keranis/work&study/Stage/utilities/Functionnalities.py:273: RuntimeWarning: invalid value encountered in scalar divide\n",
      "  return_vs_vol = perf / volatility\n",
      "/home/keranis/work&study/Stage/utilities/Functionnalities.py:275: RuntimeWarning: invalid value encountered in scalar divide\n",
      "  volume_evolution = last_volume / mean_volume\n",
      "/home/keranis/work&study/Stage/utilities/Functionnalities.py:278: RuntimeWarning: invalid value encountered in scalar divide\n",
      "  volatility_evolution = last_volatility / volatility\n",
      "/home/keranis/work&study/Stage/utilities/Functionnalities.py:279: RuntimeWarning: invalid value encountered in scalar divide\n",
      "  last_return_vs_vol = last_perf / last_volatility\n"
     ]
    }
   ],
   "source": [
    "df_metric = get_analyisis_from_window(df_list,dateObservation).sort_values(by=\"volume_evolution\", ascending=False)\n",
    "dfVe = df_metric.iloc[:nbPool]\n",
    "market = list(dfVe.index)"
   ]
  },
  {
   "cell_type": "code",
   "execution_count": 27,
   "metadata": {
    "pycharm": {
     "name": "#%%\n"
    },
    "ExecuteTime": {
     "end_time": "2023-06-04T17:05:45.502093580Z",
     "start_time": "2023-06-04T17:05:40.191797217Z"
    }
   },
   "outputs": [],
   "source": [
    "x = \"\"\n",
    "for elm in market :\n",
    "    try :\n",
    "        #get the values from binance as they are and convert them to a dataframe we can work with\n",
    "        if elm.endswith(\"-USDT\"):\n",
    "            x = elm[:-5]\n",
    "        else:\n",
    "            x = elm\n",
    "        x = x.lower()+'/usdt'\n",
    "        x = ''.join(char for char in x if not char.isdigit())\n",
    "        crypto[x] = client.get_historical_klines(x.replace(\"/\", \"\").upper(), delta_hour, sttDate, ennDate)\n",
    "        crypto[x] = pd.DataFrame(data=crypto[x],\n",
    "                                 columns=['timestamp', x[:-5] + '_open', 'high', 'low', x[:-5] + '_close', 'volume','close_time', 'quote_av', 'trades', 'tb_base_av', 'tb_quote_av', 'ignore'])\n",
    "        crypto[x] = crypto[x][['timestamp', x[:-5] + '_open', x[:-5] + '_close']]\n",
    "        crypto[x] = convert_time(crypto[x])\n",
    "        crypto[x] = crypto[x].astype({x[:-5] + '_open': 'float64',x[:-5] + '_close': 'float64'})\n",
    "        crypto[x] = crypto[x].set_index('timestamp')\n",
    "    except :\n",
    "        print(f\"{x} :  Please Try another name of this crypto !\")\n",
    "array_mauvais_shape = detection_mauvais_shape(crypto)\n",
    "crypto = correction_shape(crypto, array_mauvais_shape)\n",
    "for elm in array_mauvais_shape:\n",
    "    crypto[elm]['timestamp'] = generation_date(crypto[elm], int(delta_hour[:1]))\n",
    "    crypto[elm] = crypto[elm].set_index('timestamp')"
   ]
  },
  {
   "cell_type": "code",
   "execution_count": 28,
   "outputs": [
    {
     "data": {
      "text/plain": "{'epx/usdt':                            epx_open  epx_close  Variation_epx  Variation_N_epx\n timestamp                                                                     \n 2023-01-01 17:00:00+00:00  0.000291   0.000291       1.000000         1.000000\n 2023-01-02 01:00:00+00:00  0.000291   0.000294       1.010309         1.010309\n 2023-01-02 09:00:00+00:00  0.000295   0.000294       0.996610         0.996610\n 2023-01-02 17:00:00+00:00  0.000294   0.000296       1.006803         1.006803\n 2023-01-03 01:00:00+00:00  0.000297   0.000295       0.993266         0.993266\n ...                             ...        ...            ...              ...\n 2023-03-02 01:00:00+00:00  0.000356   0.000351       0.985955         0.985955\n 2023-03-02 09:00:00+00:00  0.000351   0.000345       0.982906         0.982906\n 2023-03-02 17:00:00+00:00  0.000344   0.000347       1.008721         1.008721\n 2023-03-03 01:00:00+00:00  0.000346   0.000331       0.956647         0.956647\n 2023-03-03 09:00:00+00:00  0.000331   0.000332       1.003021         1.003021\n \n [183 rows x 4 columns],\n 'bts/usdt':                            bts_open  bts_close  Variation_bts  Variation_N_bts\n timestamp                                                                     \n 2023-01-01 17:00:00+00:00   0.00833    0.00842       1.010804         1.010804\n 2023-01-02 01:00:00+00:00   0.00844    0.00850       1.007109         1.007109\n 2023-01-02 09:00:00+00:00   0.00852    0.00859       1.008216         1.008216\n 2023-01-02 17:00:00+00:00   0.00858    0.00854       0.995338         0.995338\n 2023-01-03 01:00:00+00:00   0.00855    0.00863       1.009357         1.009357\n ...                             ...        ...            ...              ...\n 2023-03-02 01:00:00+00:00   0.01193    0.01155       0.968148         0.968148\n 2023-03-02 09:00:00+00:00   0.01154    0.01155       1.000867         1.000867\n 2023-03-02 17:00:00+00:00   0.01157    0.01163       1.005186         1.005186\n 2023-03-03 01:00:00+00:00   0.01163    0.01100       0.945830         0.945830\n 2023-03-03 09:00:00+00:00   0.01099    0.01098       0.999090         0.999090\n \n [183 rows x 4 columns],\n 'lunc/usdt':                            lunc_open  lunc_close  Variation_lunc  \\\n timestamp                                                          \n 2023-01-01 17:00:00+00:00   0.000149    0.000151        1.011084   \n 2023-01-02 01:00:00+00:00   0.000151    0.000152        1.011226   \n 2023-01-02 09:00:00+00:00   0.000152    0.000153        1.005649   \n 2023-01-02 17:00:00+00:00   0.000153    0.000160        1.043782   \n 2023-01-03 01:00:00+00:00   0.000160    0.000161        1.006010   \n ...                              ...         ...             ...   \n 2023-03-02 01:00:00+00:00   0.000165    0.000164        0.992440   \n 2023-03-02 09:00:00+00:00   0.000164    0.000171        1.041436   \n 2023-03-02 17:00:00+00:00   0.000171    0.000170        0.991867   \n 2023-03-03 01:00:00+00:00   0.000170    0.000154        0.908045   \n 2023-03-03 09:00:00+00:00   0.000154    0.000150        0.976293   \n \n                            Variation_N_lunc  \n timestamp                                    \n 2023-01-01 17:00:00+00:00          1.011084  \n 2023-01-02 01:00:00+00:00          1.011226  \n 2023-01-02 09:00:00+00:00          1.005649  \n 2023-01-02 17:00:00+00:00          1.043782  \n 2023-01-03 01:00:00+00:00          1.006010  \n ...                                     ...  \n 2023-03-02 01:00:00+00:00          0.992440  \n 2023-03-02 09:00:00+00:00          1.041436  \n 2023-03-02 17:00:00+00:00          0.991867  \n 2023-03-03 01:00:00+00:00          0.908045  \n 2023-03-03 09:00:00+00:00          0.976293  \n \n [183 rows x 4 columns],\n 'akro/usdt':                            akro_open  akro_close  Variation_akro  \\\n timestamp                                                          \n 2023-01-01 17:00:00+00:00    0.00304     0.00300        0.986842   \n 2023-01-02 01:00:00+00:00    0.00301     0.00308        1.023256   \n 2023-01-02 09:00:00+00:00    0.00308     0.00313        1.016234   \n 2023-01-02 17:00:00+00:00    0.00312     0.00311        0.996795   \n 2023-01-03 01:00:00+00:00    0.00310     0.00311        1.003226   \n ...                              ...         ...             ...   \n 2023-03-02 01:00:00+00:00    0.00504     0.00491        0.974206   \n 2023-03-02 09:00:00+00:00    0.00491     0.00544        1.107943   \n 2023-03-02 17:00:00+00:00    0.00546     0.00543        0.994505   \n 2023-03-03 01:00:00+00:00    0.00543     0.00640        1.178637   \n 2023-03-03 09:00:00+00:00    0.00639     0.00603        0.943662   \n \n                            Variation_N_akro  \n timestamp                                    \n 2023-01-01 17:00:00+00:00          0.986842  \n 2023-01-02 01:00:00+00:00          1.023256  \n 2023-01-02 09:00:00+00:00          1.016234  \n 2023-01-02 17:00:00+00:00          0.996795  \n 2023-01-03 01:00:00+00:00          1.003226  \n ...                                     ...  \n 2023-03-02 01:00:00+00:00          0.974206  \n 2023-03-02 09:00:00+00:00          1.107943  \n 2023-03-02 17:00:00+00:00          0.994505  \n 2023-03-03 01:00:00+00:00          1.178637  \n 2023-03-03 09:00:00+00:00          0.943662  \n \n [183 rows x 4 columns],\n 'loom/usdt':            loo_open  loo_close  loom_open  loom_close  Variation_loom  \\\n timestamp                                                               \n -1274           1.0        0.0        NaN         NaN             NaN   \n -1266           1.0        0.0        NaN         NaN             NaN   \n -1258           1.0        0.0        NaN         NaN             NaN   \n -1250           1.0        0.0        NaN         NaN             NaN   \n -1242           1.0        0.0        NaN         NaN             NaN   \n ...             ...        ...        ...         ...             ...   \n  150            1.0        0.0        NaN         NaN             NaN   \n  158            1.0        0.0        NaN         NaN             NaN   \n  166            1.0        0.0        NaN         NaN             NaN   \n  174            1.0        0.0        NaN         NaN             NaN   \n  182            1.0        0.0        NaN         NaN             NaN   \n \n            Variation_N_loom  \n timestamp                    \n -1274                   NaN  \n -1266                   NaN  \n -1258                   NaN  \n -1250                   NaN  \n -1242                   NaN  \n ...                     ...  \n  150                    NaN  \n  158                    NaN  \n  166                    NaN  \n  174                    NaN  \n  182                    NaN  \n \n [183 rows x 6 columns],\n 'cvp/usdt':                            cvp_open  cvp_close  Variation_cvp  Variation_N_cvp\n timestamp                                                                     \n 2023-01-01 17:00:00+00:00    0.3318     0.3339       1.006329         1.006329\n 2023-01-02 01:00:00+00:00    0.3346     0.3383       1.011058         1.011058\n 2023-01-02 09:00:00+00:00    0.3383     0.3331       0.984629         0.984629\n 2023-01-02 17:00:00+00:00    0.3331     0.3331       1.000000         1.000000\n 2023-01-03 01:00:00+00:00    0.3331     0.3349       1.005404         1.005404\n ...                             ...        ...            ...              ...\n 2023-03-02 01:00:00+00:00    0.5392     0.5321       0.986832         0.986832\n 2023-03-02 09:00:00+00:00    0.5321     0.5351       1.005638         1.005638\n 2023-03-02 17:00:00+00:00    0.5352     0.5589       1.044283         1.044283\n 2023-03-03 01:00:00+00:00    0.5589     0.5178       0.926463         0.926463\n 2023-03-03 09:00:00+00:00    0.5175     0.5222       1.009082         1.009082\n \n [183 rows x 4 columns]}"
     },
     "execution_count": 28,
     "metadata": {},
     "output_type": "execute_result"
    }
   ],
   "source": [
    "crypto = variationN(crypto, n_i)\n",
    "crypto"
   ],
   "metadata": {
    "collapsed": false,
    "ExecuteTime": {
     "end_time": "2023-06-04T17:05:45.569977837Z",
     "start_time": "2023-06-04T17:05:45.509103676Z"
    }
   }
  },
  {
   "cell_type": "code",
   "execution_count": 59,
   "outputs": [
    {
     "name": "stdout",
     "output_type": "stream",
     "text": [
      "0.000291\n",
      "0.00842\n",
      "0.00015051\n",
      "0.003\n",
      "no idea\n",
      "0.3339\n"
     ]
    }
   ],
   "source": [
    "cryptos = crypto\n",
    "for cr in cryptos :\n",
    "    for i in range(len(cryptos[cr].index)):\n",
    "        if(i == 0):\n",
    "            try :\n",
    "                y=cryptos[cr][cr[:-5] + \"_close\"][0]\n",
    "                print(y)\n",
    "            except:\n",
    "                print(\"no idea\")"
   ],
   "metadata": {
    "collapsed": false,
    "ExecuteTime": {
     "end_time": "2023-06-04T17:22:46.729425771Z",
     "start_time": "2023-06-04T17:22:46.682188660Z"
    }
   }
  },
  {
   "cell_type": "code",
   "execution_count": 29,
   "outputs": [
    {
     "ename": "KeyError",
     "evalue": "0",
     "output_type": "error",
     "traceback": [
      "\u001B[0;31m---------------------------------------------------------------------------\u001B[0m",
      "\u001B[0;31mKeyError\u001B[0m                                  Traceback (most recent call last)",
      "File \u001B[0;32m~/work&study/Stage/venv/lib/python3.10/site-packages/pandas/core/indexes/base.py:3652\u001B[0m, in \u001B[0;36mIndex.get_loc\u001B[0;34m(self, key)\u001B[0m\n\u001B[1;32m   3651\u001B[0m \u001B[38;5;28;01mtry\u001B[39;00m:\n\u001B[0;32m-> 3652\u001B[0m     \u001B[38;5;28;01mreturn\u001B[39;00m \u001B[38;5;28;43mself\u001B[39;49m\u001B[38;5;241;43m.\u001B[39;49m\u001B[43m_engine\u001B[49m\u001B[38;5;241;43m.\u001B[39;49m\u001B[43mget_loc\u001B[49m\u001B[43m(\u001B[49m\u001B[43mcasted_key\u001B[49m\u001B[43m)\u001B[49m\n\u001B[1;32m   3653\u001B[0m \u001B[38;5;28;01mexcept\u001B[39;00m \u001B[38;5;167;01mKeyError\u001B[39;00m \u001B[38;5;28;01mas\u001B[39;00m err:\n",
      "File \u001B[0;32m~/work&study/Stage/venv/lib/python3.10/site-packages/pandas/_libs/index.pyx:147\u001B[0m, in \u001B[0;36mpandas._libs.index.IndexEngine.get_loc\u001B[0;34m()\u001B[0m\n",
      "File \u001B[0;32m~/work&study/Stage/venv/lib/python3.10/site-packages/pandas/_libs/index.pyx:176\u001B[0m, in \u001B[0;36mpandas._libs.index.IndexEngine.get_loc\u001B[0;34m()\u001B[0m\n",
      "File \u001B[0;32mpandas/_libs/hashtable_class_helper.pxi:2606\u001B[0m, in \u001B[0;36mpandas._libs.hashtable.Int64HashTable.get_item\u001B[0;34m()\u001B[0m\n",
      "File \u001B[0;32mpandas/_libs/hashtable_class_helper.pxi:2630\u001B[0m, in \u001B[0;36mpandas._libs.hashtable.Int64HashTable.get_item\u001B[0;34m()\u001B[0m\n",
      "\u001B[0;31mKeyError\u001B[0m: 0",
      "\nThe above exception was the direct cause of the following exception:\n",
      "\u001B[0;31mKeyError\u001B[0m                                  Traceback (most recent call last)",
      "Cell \u001B[0;32mIn[29], line 1\u001B[0m\n\u001B[0;32m----> 1\u001B[0m crypto \u001B[38;5;241m=\u001B[39m \u001B[43mcoeffMulti\u001B[49m\u001B[43m(\u001B[49m\u001B[43mcrypto\u001B[49m\u001B[43m)\u001B[49m\n\u001B[1;32m      2\u001B[0m crypto \u001B[38;5;241m=\u001B[39m mergeCryptoTogether(crypto)\n\u001B[1;32m      3\u001B[0m crypto, maxis \u001B[38;5;241m=\u001B[39m botMax(crypto)\n",
      "File \u001B[0;32m~/work&study/Stage/utilities/Functionnalities.py:121\u001B[0m, in \u001B[0;36mcoeffMulti\u001B[0;34m(cryptos)\u001B[0m\n\u001B[1;32m    119\u001B[0m \u001B[38;5;28;01mfor\u001B[39;00m i \u001B[38;5;129;01min\u001B[39;00m \u001B[38;5;28mrange\u001B[39m(\u001B[38;5;28mlen\u001B[39m(cryptos[crypto]\u001B[38;5;241m.\u001B[39mindex)):\n\u001B[1;32m    120\u001B[0m     \u001B[38;5;28;01mif\u001B[39;00m (i \u001B[38;5;241m==\u001B[39m \u001B[38;5;241m0\u001B[39m):\n\u001B[0;32m--> 121\u001B[0m         cryptos[crypto][\u001B[38;5;124m\"\u001B[39m\u001B[38;5;124mCoeff_mult_\u001B[39m\u001B[38;5;124m\"\u001B[39m \u001B[38;5;241m+\u001B[39m crypto[:\u001B[38;5;241m-\u001B[39m\u001B[38;5;241m5\u001B[39m]] \u001B[38;5;241m=\u001B[39m \u001B[43mcryptos\u001B[49m\u001B[43m[\u001B[49m\u001B[43mcrypto\u001B[49m\u001B[43m]\u001B[49m\u001B[43m[\u001B[49m\u001B[43mcrypto\u001B[49m\u001B[43m[\u001B[49m\u001B[43m:\u001B[49m\u001B[38;5;241;43m-\u001B[39;49m\u001B[38;5;241;43m5\u001B[39;49m\u001B[43m]\u001B[49m\u001B[43m \u001B[49m\u001B[38;5;241;43m+\u001B[39;49m\u001B[43m \u001B[49m\u001B[38;5;124;43m\"\u001B[39;49m\u001B[38;5;124;43m_close\u001B[39;49m\u001B[38;5;124;43m\"\u001B[39;49m\u001B[43m]\u001B[49m\u001B[43m[\u001B[49m\u001B[38;5;241;43m0\u001B[39;49m\u001B[43m]\u001B[49m \u001B[38;5;241m/\u001B[39m \\\n\u001B[1;32m    122\u001B[0m                                                        cryptos[crypto][crypto[:\u001B[38;5;241m-\u001B[39m\u001B[38;5;241m5\u001B[39m] \u001B[38;5;241m+\u001B[39m \u001B[38;5;124m\"\u001B[39m\u001B[38;5;124m_open\u001B[39m\u001B[38;5;124m\"\u001B[39m][\u001B[38;5;241m0\u001B[39m]\n\u001B[1;32m    123\u001B[0m     \u001B[38;5;28;01melse\u001B[39;00m:\n\u001B[1;32m    124\u001B[0m         cryptos[crypto][\u001B[38;5;124m\"\u001B[39m\u001B[38;5;124mCoeff_mult_\u001B[39m\u001B[38;5;124m\"\u001B[39m \u001B[38;5;241m+\u001B[39m crypto[:\u001B[38;5;241m-\u001B[39m\u001B[38;5;241m5\u001B[39m]][i] \u001B[38;5;241m=\u001B[39m cryptos[crypto][\u001B[38;5;124m\"\u001B[39m\u001B[38;5;124mVariation_N_\u001B[39m\u001B[38;5;124m\"\u001B[39m \u001B[38;5;241m+\u001B[39m crypto[:\u001B[38;5;241m-\u001B[39m\u001B[38;5;241m5\u001B[39m]][i] \u001B[38;5;241m*\u001B[39m \\\n\u001B[1;32m    125\u001B[0m                                                           cryptos[crypto][\u001B[38;5;124m\"\u001B[39m\u001B[38;5;124mCoeff_mult_\u001B[39m\u001B[38;5;124m\"\u001B[39m \u001B[38;5;241m+\u001B[39m crypto[:\u001B[38;5;241m-\u001B[39m\u001B[38;5;241m5\u001B[39m]][i \u001B[38;5;241m-\u001B[39m \u001B[38;5;241m1\u001B[39m]\n",
      "File \u001B[0;32m~/work&study/Stage/venv/lib/python3.10/site-packages/pandas/core/series.py:1007\u001B[0m, in \u001B[0;36mSeries.__getitem__\u001B[0;34m(self, key)\u001B[0m\n\u001B[1;32m   1004\u001B[0m     \u001B[38;5;28;01mreturn\u001B[39;00m \u001B[38;5;28mself\u001B[39m\u001B[38;5;241m.\u001B[39m_values[key]\n\u001B[1;32m   1006\u001B[0m \u001B[38;5;28;01melif\u001B[39;00m key_is_scalar:\n\u001B[0;32m-> 1007\u001B[0m     \u001B[38;5;28;01mreturn\u001B[39;00m \u001B[38;5;28;43mself\u001B[39;49m\u001B[38;5;241;43m.\u001B[39;49m\u001B[43m_get_value\u001B[49m\u001B[43m(\u001B[49m\u001B[43mkey\u001B[49m\u001B[43m)\u001B[49m\n\u001B[1;32m   1009\u001B[0m \u001B[38;5;28;01mif\u001B[39;00m is_hashable(key):\n\u001B[1;32m   1010\u001B[0m     \u001B[38;5;66;03m# Otherwise index.get_value will raise InvalidIndexError\u001B[39;00m\n\u001B[1;32m   1011\u001B[0m     \u001B[38;5;28;01mtry\u001B[39;00m:\n\u001B[1;32m   1012\u001B[0m         \u001B[38;5;66;03m# For labels that don't resolve as scalars like tuples and frozensets\u001B[39;00m\n",
      "File \u001B[0;32m~/work&study/Stage/venv/lib/python3.10/site-packages/pandas/core/series.py:1116\u001B[0m, in \u001B[0;36mSeries._get_value\u001B[0;34m(self, label, takeable)\u001B[0m\n\u001B[1;32m   1113\u001B[0m     \u001B[38;5;28;01mreturn\u001B[39;00m \u001B[38;5;28mself\u001B[39m\u001B[38;5;241m.\u001B[39m_values[label]\n\u001B[1;32m   1115\u001B[0m \u001B[38;5;66;03m# Similar to Index.get_value, but we do not fall back to positional\u001B[39;00m\n\u001B[0;32m-> 1116\u001B[0m loc \u001B[38;5;241m=\u001B[39m \u001B[38;5;28;43mself\u001B[39;49m\u001B[38;5;241;43m.\u001B[39;49m\u001B[43mindex\u001B[49m\u001B[38;5;241;43m.\u001B[39;49m\u001B[43mget_loc\u001B[49m\u001B[43m(\u001B[49m\u001B[43mlabel\u001B[49m\u001B[43m)\u001B[49m\n\u001B[1;32m   1118\u001B[0m \u001B[38;5;28;01mif\u001B[39;00m is_integer(loc):\n\u001B[1;32m   1119\u001B[0m     \u001B[38;5;28;01mreturn\u001B[39;00m \u001B[38;5;28mself\u001B[39m\u001B[38;5;241m.\u001B[39m_values[loc]\n",
      "File \u001B[0;32m~/work&study/Stage/venv/lib/python3.10/site-packages/pandas/core/indexes/base.py:3654\u001B[0m, in \u001B[0;36mIndex.get_loc\u001B[0;34m(self, key)\u001B[0m\n\u001B[1;32m   3652\u001B[0m     \u001B[38;5;28;01mreturn\u001B[39;00m \u001B[38;5;28mself\u001B[39m\u001B[38;5;241m.\u001B[39m_engine\u001B[38;5;241m.\u001B[39mget_loc(casted_key)\n\u001B[1;32m   3653\u001B[0m \u001B[38;5;28;01mexcept\u001B[39;00m \u001B[38;5;167;01mKeyError\u001B[39;00m \u001B[38;5;28;01mas\u001B[39;00m err:\n\u001B[0;32m-> 3654\u001B[0m     \u001B[38;5;28;01mraise\u001B[39;00m \u001B[38;5;167;01mKeyError\u001B[39;00m(key) \u001B[38;5;28;01mfrom\u001B[39;00m \u001B[38;5;21;01merr\u001B[39;00m\n\u001B[1;32m   3655\u001B[0m \u001B[38;5;28;01mexcept\u001B[39;00m \u001B[38;5;167;01mTypeError\u001B[39;00m:\n\u001B[1;32m   3656\u001B[0m     \u001B[38;5;66;03m# If we have a listlike key, _check_indexing_error will raise\u001B[39;00m\n\u001B[1;32m   3657\u001B[0m     \u001B[38;5;66;03m#  InvalidIndexError. Otherwise we fall through and re-raise\u001B[39;00m\n\u001B[1;32m   3658\u001B[0m     \u001B[38;5;66;03m#  the TypeError.\u001B[39;00m\n\u001B[1;32m   3659\u001B[0m     \u001B[38;5;28mself\u001B[39m\u001B[38;5;241m.\u001B[39m_check_indexing_error(key)\n",
      "\u001B[0;31mKeyError\u001B[0m: 0"
     ]
    }
   ],
   "source": [
    "crypto = coeffMulti(crypto)\n",
    "crypto = mergeCryptoTogether(crypto)\n",
    "crypto, maxis = botMax(crypto)\n",
    "crypto = botMaxVariation2(crypto, maxis)\n",
    "crypto = coeffMultiBotMax(crypto)\n",
    "coefMulti = coefmultiFinal(crypto)"
   ],
   "metadata": {
    "collapsed": false,
    "ExecuteTime": {
     "end_time": "2023-06-04T17:05:45.979982133Z",
     "start_time": "2023-06-04T17:05:45.898864596Z"
    }
   }
  },
  {
   "cell_type": "code",
   "execution_count": null,
   "outputs": [],
   "source": [
    "plot_courbes2(coefMulti)"
   ],
   "metadata": {
    "collapsed": false
   }
  },
  {
   "cell_type": "code",
   "execution_count": null,
   "outputs": [],
   "source": [
    "coefMulti.tail(1)"
   ],
   "metadata": {
    "collapsed": false
   }
  },
  {
   "cell_type": "code",
   "execution_count": null,
   "outputs": [],
   "source": [],
   "metadata": {
    "collapsed": false
   }
  },
  {
   "cell_type": "code",
   "execution_count": null,
   "outputs": [],
   "source": [],
   "metadata": {
    "collapsed": false
   }
  }
 ],
 "metadata": {
  "kernelspec": {
   "display_name": "Python 3 (ipykernel)",
   "language": "python",
   "name": "python3"
  },
  "language_info": {
   "codemirror_mode": {
    "name": "ipython",
    "version": 3
   },
   "file_extension": ".py",
   "mimetype": "text/x-python",
   "name": "python",
   "nbconvert_exporter": "python",
   "pygments_lexer": "ipython3",
   "version": "3.10.6"
  }
 },
 "nbformat": 4,
 "nbformat_minor": 1
}
