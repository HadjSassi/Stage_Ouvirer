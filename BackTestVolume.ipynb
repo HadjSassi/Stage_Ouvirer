{
 "cells": [
  {
   "cell_type": "code",
   "execution_count": 1,
   "metadata": {
    "pycharm": {
     "name": "#%%\n"
    },
    "ExecuteTime": {
     "end_time": "2023-06-04T13:15:42.392783960Z",
     "start_time": "2023-06-04T13:15:41.485103086Z"
    }
   },
   "outputs": [],
   "source": [
    "import sys\n",
    "from utilities.get_data import get_historical_from_path\n",
    "from os import listdir\n",
    "from os.path import isfile, join\n",
    "import pandas as pd\n",
    "import numpy as np\n",
    "import matplotlib.pyplot as plt\n",
    "import ta\n",
    "import os\n",
    "import subprocess\n",
    "import importlib"
   ]
  },
  {
   "cell_type": "markdown",
   "metadata": {
    "pycharm": {
     "name": "#%% md\n"
    }
   },
   "source": [
    "# Use the terminal code to import the data from the internet node .\\database\\sdl_for_quick_analysis.js"
   ]
  },
  {
   "cell_type": "code",
   "execution_count": 2,
   "metadata": {
    "pycharm": {
     "name": "#%%\n"
    },
    "ExecuteTime": {
     "end_time": "2023-06-04T13:15:46.132114151Z",
     "start_time": "2023-06-04T13:15:46.086787244Z"
    }
   },
   "outputs": [],
   "source": [
    "def execute_terminal_command(command):\n",
    "    try:\n",
    "        result = subprocess.run(command, shell=True, capture_output=True, text=True)\n",
    "        # Print the standard output of the command\n",
    "        print(result.stdout)\n",
    "\n",
    "        # If you want to capture the standard error as well, uncomment the line below\n",
    "        # print(result.stderr)\n",
    "\n",
    "        # Check the return code\n",
    "        if result.returncode == 0:\n",
    "            print(\"Command executed successfully.\")\n",
    "        else:\n",
    "            print(f\"Command execution failed with return code: {result.returncode}\")\n",
    "    except subprocess.CalledProcessError as e:\n",
    "        print(f\"Error executing command: {e}\")\n",
    "def install_package_if_needed(package):\n",
    "    try:\n",
    "        # Check if the package is installed\n",
    "        subprocess.run(['node', '-e', 'require.resolve(\"{}\")'.format(package)], check=True, capture_output=True)\n",
    "        print(f\"{package} is already installed.\")\n",
    "    except subprocess.CalledProcessError as e:\n",
    "        # Package not found, install it\n",
    "        print(f\"{package} is not installed. Installing...\")\n",
    "        try:\n",
    "            command = f'npm install {package}'\n",
    "            execute_terminal_command(command)\n",
    "            print(f\"{package} installed successfully.\")\n",
    "        except subprocess.CalledProcessError as e:\n",
    "            print(f\"Error installing {package}: {e}\")\n",
    "def remove_non_csv_files(directory):\n",
    "    for filename in os.listdir(directory):\n",
    "        if not filename.endswith(\".csv\"):\n",
    "            file_path = os.path.join(directory, filename)\n",
    "            if os.path.isfile(file_path):\n",
    "                os.remove(file_path)\n",
    "                print(f\"Removed file: {file_path}\")\n",
    "def get_analyisis_from_window(window=24):\n",
    "    metric_list = {}\n",
    "    for coin in df_list:\n",
    "        try:\n",
    "            df = df_list[coin]\n",
    "            df.drop(columns=df.columns.difference(['open','high','low','close','volume']), inplace=True)\n",
    "            df[\"rvolume\"] = df[\"volume\"] * df[\"close\"]\n",
    "            df[\"olhc\"] = (df[\"open\"] + df[\"low\"] + df[\"high\"] + df[\"close\"])/4\n",
    "            df[\"atr\"] = (ta.volatility.average_true_range(high=df['high'], low=df['low'], close=df['close'])/df[\"close\"])*100\n",
    "            # df[\"norm\"].dropna(inplace=True)\n",
    "            volatility = df[\"atr\"].mean()\n",
    "            mean_volume = df[\"rvolume\"].mean()\n",
    "            std = df[\"olhc\"].std()/df[\"olhc\"].mean()\n",
    "            perf = (df[\"close\"].iloc[-1] - df[\"close\"].iloc[0]) / df[\"close\"].iloc[0]\n",
    "            return_vs_vol = perf/volatility\n",
    "            last_volume = df[\"rvolume\"].iloc[-window:].mean()\n",
    "            volume_evolution = last_volume / mean_volume\n",
    "            last_volatility = df.iloc[-window:][\"olhc\"].std() / df.iloc[-window:][\"olhc\"].mean()\n",
    "            last_perf = (df.iloc[-1][\"close\"] - df.iloc[-window][\"close\"]) / df.iloc[-window][\"close\"]\n",
    "            volatility_evolution = last_volatility / volatility\n",
    "            last_return_vs_vol = last_perf / last_volatility\n",
    "            metric_list[coin] = {\n",
    "                \"mean_volume\": round(mean_volume),\n",
    "                \"last_volume\": round(last_volume),\n",
    "                \"volume_evolution\": round(volume_evolution,2),\n",
    "                \"mean_volatility\": round(volatility,2),\n",
    "                \"last_volatility\": round(last_volatility*100,2),\n",
    "                \"volatility_evolution\": round(volatility_evolution*100,2),\n",
    "                \"return\": round(perf*100,2),\n",
    "                \"last_return\":round(last_perf*100,2),\n",
    "                \"return_vs_vol\": round(return_vs_vol*100,2),\n",
    "                \"last_return_vs_vol\":round(last_return_vs_vol,2)\n",
    "                }\n",
    "        except:\n",
    "            # print(\"Error on\", coin)\n",
    "            # raise\n",
    "            pass\n",
    "\n",
    "    return pd.DataFrame.from_dict(metric_list, orient='index')"
   ]
  },
  {
   "cell_type": "code",
   "execution_count": 3,
   "metadata": {
    "pycharm": {
     "name": "#%%\n"
    },
    "ExecuteTime": {
     "end_time": "2023-06-04T13:16:00.442252053Z",
     "start_time": "2023-06-04T13:16:00.330793699Z"
    }
   },
   "outputs": [
    {
     "name": "stdout",
     "output_type": "stream",
     "text": [
      "ccxt is already installed.\n"
     ]
    }
   ],
   "source": [
    "install_package_if_needed(\"ccxt\")"
   ]
  },
  {
   "cell_type": "code",
   "execution_count": 4,
   "metadata": {
    "pycharm": {
     "name": "#%%\n"
    },
    "ExecuteTime": {
     "end_time": "2023-06-04T13:16:02.851873702Z",
     "start_time": "2023-06-04T13:16:02.767044652Z"
    }
   },
   "outputs": [
    {
     "name": "stdout",
     "output_type": "stream",
     "text": [
      "csv-writer is already installed.\n"
     ]
    }
   ],
   "source": [
    "install_package_if_needed(\"csv-writer\")"
   ]
  },
  {
   "cell_type": "code",
   "execution_count": 7,
   "metadata": {
    "pycharm": {
     "name": "#%%\n"
    },
    "ExecuteTime": {
     "end_time": "2023-06-04T13:22:29.710301662Z",
     "start_time": "2023-06-04T13:21:43.778363374Z"
    }
   },
   "outputs": [
    {
     "name": "stdout",
     "output_type": "stream",
     "text": [
      "database/quick_analysis is deleted!\n",
      "\n",
      "Loading 1/590 coins downloaded\n",
      "Loading 2/590 coins downloaded\n",
      "Loading 3/590 coins downloaded\n",
      "Loading 4/590 coins downloaded\n",
      "Loading 5/590 coins downloaded\n",
      "Loading 6/590 coins downloaded\n",
      "Loading 7/590 coins downloaded\n",
      "Loading 8/590 coins downloaded\n",
      "Loading 9/590 coins downloaded\n",
      "Loading 10/590 coins downloaded\n",
      "Loading 11/590 coins downloaded\n",
      "Loading 12/590 coins downloaded\n",
      "Loading 13/590 coins downloaded\n",
      "Loading 14/590 coins downloaded\n",
      "Loading 15/590 coins downloaded\n",
      "Loading 16/590 coins downloaded\n",
      "Loading 17/590 coins downloaded\n",
      "Loading 18/590 coins downloaded\n",
      "Loading 19/590 coins downloaded\n",
      "Loading 20/590 coins downloaded\n",
      "Loading 21/590 coins downloaded\n",
      "Loading 22/590 coins downloaded\n",
      "Loading 23/590 coins downloaded\n",
      "Loading 24/590 coins downloaded\n",
      "Loading 25/590 coins downloaded\n",
      "Loading 26/590 coins downloaded\n",
      "Loading 27/590 coins downloaded\n",
      "Loading 28/590 coins downloaded\n",
      "Loading 29/590 coins downloaded\n",
      "Loading 30/590 coins downloaded\n",
      "Loading 31/590 coins downloaded\n",
      "Loading 32/590 coins downloaded\n",
      "Loading 33/590 coins downloaded\n",
      "Loading 34/590 coins downloaded\n",
      "Loading 35/590 coins downloaded\n",
      "Loading 36/590 coins downloaded\n",
      "Loading 37/590 coins downloaded\n",
      "Loading 38/590 coins downloaded\n",
      "Loading 39/590 coins downloaded\n",
      "Loading 40/590 coins downloaded\n",
      "Loading 41/590 coins downloaded\n",
      "Loading 42/590 coins downloaded\n",
      "Loading 43/590 coins downloaded\n",
      "Loading 44/590 coins downloaded\n",
      "Loading 45/590 coins downloaded\n",
      "Loading 46/590 coins downloaded\n",
      "Loading 47/590 coins downloaded\n",
      "Loading 48/590 coins downloaded\n",
      "Loading 49/590 coins downloaded\n",
      "Loading 50/590 coins downloaded\n",
      "Loading 51/590 coins downloaded\n",
      "Loading 52/590 coins downloaded\n",
      "Loading 53/590 coins downloaded\n",
      "Loading 54/590 coins downloaded\n",
      "Loading 55/590 coins downloaded\n",
      "Loading 56/590 coins downloaded\n",
      "Loading 57/590 coins downloaded\n",
      "Loading 58/590 coins downloaded\n",
      "Loading 59/590 coins downloaded\n",
      "Loading 60/590 coins downloaded\n",
      "Loading 61/590 coins downloaded\n",
      "Loading 62/590 coins downloaded\n",
      "Loading 63/590 coins downloaded\n",
      "Loading 64/590 coins downloaded\n",
      "Loading 65/590 coins downloaded\n",
      "Loading 66/590 coins downloaded\n",
      "Loading 67/590 coins downloaded\n",
      "Loading 68/590 coins downloaded\n",
      "Loading 69/590 coins downloaded\n",
      "Loading 70/590 coins downloaded\n",
      "Loading 71/590 coins downloaded\n",
      "Loading 72/590 coins downloaded\n",
      "Loading 73/590 coins downloaded\n",
      "Loading 74/590 coins downloaded\n",
      "Loading 75/590 coins downloaded\n",
      "Loading 76/590 coins downloaded\n",
      "Loading 77/590 coins downloaded\n",
      "Loading 78/590 coins downloaded\n",
      "Loading 79/590 coins downloaded\n",
      "Loading 80/590 coins downloaded\n",
      "Loading 81/590 coins downloaded\n",
      "Loading 82/590 coins downloaded\n",
      "Loading 83/590 coins downloaded\n",
      "Loading 84/590 coins downloaded\n",
      "Loading 85/590 coins downloaded\n",
      "Loading 86/590 coins downloaded\n",
      "Loading 87/590 coins downloaded\n",
      "Loading 88/590 coins downloaded\n",
      "Loading 89/590 coins downloaded\n",
      "Loading 90/590 coins downloaded\n",
      "Loading 91/590 coins downloaded\n",
      "Loading 92/590 coins downloaded\n",
      "Loading 93/590 coins downloaded\n",
      "Loading 94/590 coins downloaded\n",
      "Loading 95/590 coins downloaded\n",
      "Loading 96/590 coins downloaded\n",
      "Loading 97/590 coins downloaded\n",
      "Loading 98/590 coins downloaded\n",
      "Loading 99/590 coins downloaded\n",
      "Loading 100/590 coins downloaded\n",
      "Loading 101/590 coins downloaded\n",
      "Loading 102/590 coins downloaded\n",
      "Loading 103/590 coins downloaded\n",
      "Loading 104/590 coins downloaded\n",
      "Loading 105/590 coins downloaded\n",
      "Loading 106/590 coins downloaded\n",
      "Loading 107/590 coins downloaded\n",
      "Loading 108/590 coins downloaded\n",
      "Loading 109/590 coins downloaded\n",
      "Loading 110/590 coins downloaded\n",
      "Loading 111/590 coins downloaded\n",
      "Loading 112/590 coins downloaded\n",
      "Loading 113/590 coins downloaded\n",
      "Loading 114/590 coins downloaded\n",
      "Loading 115/590 coins downloaded\n",
      "Loading 116/590 coins downloaded\n",
      "Loading 117/590 coins downloaded\n",
      "Loading 118/590 coins downloaded\n",
      "Loading 119/590 coins downloaded\n",
      "Loading 120/590 coins downloaded\n",
      "Loading 121/590 coins downloaded\n",
      "Loading 122/590 coins downloaded\n",
      "Loading 123/590 coins downloaded\n",
      "Loading 124/590 coins downloaded\n",
      "Loading 125/590 coins downloaded\n",
      "Loading 126/590 coins downloaded\n",
      "Loading 127/590 coins downloaded\n",
      "Loading 128/590 coins downloaded\n",
      "Loading 129/590 coins downloaded\n",
      "Loading 130/590 coins downloaded\n",
      "Loading 131/590 coins downloaded\n",
      "Loading 132/590 coins downloaded\n",
      "Loading 133/590 coins downloaded\n",
      "Loading 134/590 coins downloaded\n",
      "Loading 135/590 coins downloaded\n",
      "Loading 136/590 coins downloaded\n",
      "Loading 137/590 coins downloaded\n",
      "Loading 138/590 coins downloaded\n",
      "Loading 139/590 coins downloaded\n",
      "Loading 140/590 coins downloaded\n",
      "Loading 141/590 coins downloaded\n",
      "Loading 142/590 coins downloaded\n",
      "Loading 143/590 coins downloaded\n",
      "Loading 144/590 coins downloaded\n",
      "Loading 145/590 coins downloaded\n",
      "Loading 146/590 coins downloaded\n",
      "Loading 147/590 coins downloaded\n",
      "Loading 148/590 coins downloaded\n",
      "Loading 149/590 coins downloaded\n",
      "Loading 150/590 coins downloaded\n",
      "Loading 151/590 coins downloaded\n",
      "Loading 152/590 coins downloaded\n",
      "Loading 153/590 coins downloaded\n",
      "Loading 154/590 coins downloaded\n",
      "Loading 155/590 coins downloaded\n",
      "Loading 156/590 coins downloaded\n",
      "Loading 157/590 coins downloaded\n",
      "Loading 158/590 coins downloaded\n",
      "Loading 159/590 coins downloaded\n",
      "Loading 160/590 coins downloaded\n",
      "Loading 161/590 coins downloaded\n",
      "Loading 162/590 coins downloaded\n",
      "Loading 163/590 coins downloaded\n",
      "Loading 164/590 coins downloaded\n",
      "Loading 165/590 coins downloaded\n",
      "Loading 166/590 coins downloaded\n",
      "Loading 167/590 coins downloaded\n",
      "Loading 168/590 coins downloaded\n",
      "Loading 169/590 coins downloaded\n",
      "Loading 170/590 coins downloaded\n",
      "Loading 171/590 coins downloaded\n",
      "Loading 172/590 coins downloaded\n",
      "Loading 173/590 coins downloaded\n",
      "Loading 174/590 coins downloaded\n",
      "Loading 175/590 coins downloaded\n",
      "Loading 176/590 coins downloaded\n",
      "Loading 177/590 coins downloaded\n",
      "Loading 178/590 coins downloaded\n",
      "Loading 179/590 coins downloaded\n",
      "Loading 180/590 coins downloaded\n",
      "Loading 181/590 coins downloaded\n",
      "Loading 182/590 coins downloaded\n",
      "Loading 183/590 coins downloaded\n",
      "Loading 184/590 coins downloaded\n",
      "Loading 185/590 coins downloaded\n",
      "Loading 186/590 coins downloaded\n",
      "Loading 187/590 coins downloaded\n",
      "Loading 188/590 coins downloaded\n",
      "Loading 189/590 coins downloaded\n",
      "Loading 190/590 coins downloaded\n",
      "Loading 191/590 coins downloaded\n",
      "Loading 192/590 coins downloaded\n",
      "Loading 193/590 coins downloaded\n",
      "Loading 194/590 coins downloaded\n",
      "Loading 195/590 coins downloaded\n",
      "Loading 196/590 coins downloaded\n",
      "Loading 197/590 coins downloaded\n",
      "Loading 198/590 coins downloaded\n",
      "Loading 199/590 coins downloaded\n",
      "Loading 200/590 coins downloaded\n",
      "Loading 201/590 coins downloaded\n",
      "Loading 202/590 coins downloaded\n",
      "Loading 203/590 coins downloaded\n",
      "Loading 204/590 coins downloaded\n",
      "Loading 205/590 coins downloaded\n",
      "Loading 206/590 coins downloaded\n",
      "Loading 207/590 coins downloaded\n",
      "Loading 208/590 coins downloaded\n",
      "Loading 209/590 coins downloaded\n",
      "Loading 210/590 coins downloaded\n",
      "Loading 211/590 coins downloaded\n",
      "Loading 212/590 coins downloaded\n",
      "Loading 213/590 coins downloaded\n",
      "Loading 214/590 coins downloaded\n",
      "Loading 215/590 coins downloaded\n",
      "Loading 216/590 coins downloaded\n",
      "Loading 217/590 coins downloaded\n",
      "Loading 218/590 coins downloaded\n",
      "Loading 219/590 coins downloaded\n",
      "Loading 220/590 coins downloaded\n",
      "Loading 221/590 coins downloaded\n",
      "Loading 222/590 coins downloaded\n",
      "Loading 223/590 coins downloaded\n",
      "Loading 224/590 coins downloaded\n",
      "Loading 225/590 coins downloaded\n",
      "Loading 226/590 coins downloaded\n",
      "Loading 227/590 coins downloaded\n",
      "Loading 228/590 coins downloaded\n",
      "Loading 229/590 coins downloaded\n",
      "Loading 230/590 coins downloaded\n",
      "Loading 231/590 coins downloaded\n",
      "Loading 232/590 coins downloaded\n",
      "Loading 233/590 coins downloaded\n",
      "Loading 234/590 coins downloaded\n",
      "Loading 235/590 coins downloaded\n",
      "Loading 236/590 coins downloaded\n",
      "Loading 237/590 coins downloaded\n",
      "Loading 238/590 coins downloaded\n",
      "Loading 239/590 coins downloaded\n",
      "Loading 240/590 coins downloaded\n",
      "Loading 241/590 coins downloaded\n",
      "Loading 242/590 coins downloaded\n",
      "Loading 243/590 coins downloaded\n",
      "Loading 244/590 coins downloaded\n",
      "Loading 245/590 coins downloaded\n",
      "Loading 246/590 coins downloaded\n",
      "Loading 247/590 coins downloaded\n",
      "Loading 248/590 coins downloaded\n",
      "Loading 249/590 coins downloaded\n",
      "Loading 250/590 coins downloaded\n",
      "Loading 251/590 coins downloaded\n",
      "Loading 252/590 coins downloaded\n",
      "Loading 253/590 coins downloaded\n",
      "Loading 254/590 coins downloaded\n",
      "Loading 255/590 coins downloaded\n",
      "Loading 256/590 coins downloaded\n",
      "Loading 257/590 coins downloaded\n",
      "Loading 258/590 coins downloaded\n",
      "Loading 259/590 coins downloaded\n",
      "Loading 260/590 coins downloaded\n",
      "Loading 261/590 coins downloaded\n",
      "Loading 262/590 coins downloaded\n",
      "Loading 263/590 coins downloaded\n",
      "Loading 264/590 coins downloaded\n",
      "Loading 265/590 coins downloaded\n",
      "Loading 266/590 coins downloaded\n",
      "Loading 267/590 coins downloaded\n",
      "Loading 268/590 coins downloaded\n",
      "Loading 269/590 coins downloaded\n",
      "Loading 270/590 coins downloaded\n",
      "Loading 271/590 coins downloaded\n",
      "Loading 272/590 coins downloaded\n",
      "Loading 273/590 coins downloaded\n",
      "Loading 274/590 coins downloaded\n",
      "Loading 275/590 coins downloaded\n",
      "Loading 276/590 coins downloaded\n",
      "Loading 277/590 coins downloaded\n",
      "Loading 278/590 coins downloaded\n",
      "Loading 279/590 coins downloaded\n",
      "Loading 280/590 coins downloaded\n",
      "Loading 281/590 coins downloaded\n",
      "Loading 282/590 coins downloaded\n",
      "Loading 283/590 coins downloaded\n",
      "Loading 284/590 coins downloaded\n",
      "Loading 285/590 coins downloaded\n",
      "Loading 286/590 coins downloaded\n",
      "Loading 287/590 coins downloaded\n",
      "Loading 288/590 coins downloaded\n",
      "Loading 289/590 coins downloaded\n",
      "Loading 290/590 coins downloaded\n",
      "Loading 291/590 coins downloaded\n",
      "Loading 292/590 coins downloaded\n",
      "Loading 293/590 coins downloaded\n",
      "Loading 294/590 coins downloaded\n",
      "Loading 295/590 coins downloaded\n",
      "Loading 296/590 coins downloaded\n",
      "Loading 297/590 coins downloaded\n",
      "Loading 298/590 coins downloaded\n",
      "Loading 299/590 coins downloaded\n",
      "Loading 300/590 coins downloaded\n",
      "Loading 301/590 coins downloaded\n",
      "Loading 302/590 coins downloaded\n",
      "Loading 303/590 coins downloaded\n",
      "Loading 304/590 coins downloaded\n",
      "Loading 305/590 coins downloaded\n",
      "Loading 306/590 coins downloaded\n",
      "Loading 307/590 coins downloaded\n",
      "Loading 308/590 coins downloaded\n",
      "Loading 309/590 coins downloaded\n",
      "Loading 310/590 coins downloaded\n",
      "Loading 311/590 coins downloaded\n",
      "Loading 312/590 coins downloaded\n",
      "Loading 313/590 coins downloaded\n",
      "Loading 314/590 coins downloaded\n",
      "Loading 315/590 coins downloaded\n",
      "Loading 316/590 coins downloaded\n",
      "Loading 317/590 coins downloaded\n",
      "Loading 318/590 coins downloaded\n",
      "Loading 319/590 coins downloaded\n",
      "Loading 320/590 coins downloaded\n",
      "Loading 321/590 coins downloaded\n",
      "Loading 322/590 coins downloaded\n",
      "Loading 323/590 coins downloaded\n",
      "Loading 324/590 coins downloaded\n",
      "Loading 325/590 coins downloaded\n",
      "Loading 326/590 coins downloaded\n",
      "Loading 327/590 coins downloaded\n",
      "Loading 328/590 coins downloaded\n",
      "Loading 329/590 coins downloaded\n",
      "Loading 330/590 coins downloaded\n",
      "Loading 331/590 coins downloaded\n",
      "Loading 332/590 coins downloaded\n",
      "Loading 333/590 coins downloaded\n",
      "Loading 334/590 coins downloaded\n",
      "Loading 335/590 coins downloaded\n",
      "Loading 336/590 coins downloaded\n",
      "Command execution failed with return code: 1\n"
     ]
    }
   ],
   "source": [
    "command = 'node ./database/dl_for_quick_analysis.js'\n",
    "execute_terminal_command(command)"
   ]
  },
  {
   "cell_type": "code",
   "execution_count": 8,
   "metadata": {
    "pycharm": {
     "name": "#%%\n"
    },
    "ExecuteTime": {
     "end_time": "2023-06-04T13:22:36.824123139Z",
     "start_time": "2023-06-04T13:22:36.778784120Z"
    }
   },
   "outputs": [],
   "source": [
    "directory_path = \"./database/quick_analysis\"\n",
    "remove_non_csv_files(directory_path)"
   ]
  },
  {
   "cell_type": "code",
   "execution_count": 9,
   "metadata": {
    "pycharm": {
     "name": "#%%\n"
    },
    "ExecuteTime": {
     "end_time": "2023-06-04T13:22:45.435017527Z",
     "start_time": "2023-06-04T13:22:44.108620895Z"
    }
   },
   "outputs": [
    {
     "name": "stdout",
     "output_type": "stream",
     "text": [
      "All data loaded\n"
     ]
    }
   ],
   "source": [
    "mypath = \"./database/quick_analysis\"\n",
    "file_list = [f for f in listdir(mypath) if isfile(join(mypath, f))]\n",
    "df_list = {}\n",
    "for file in file_list:\n",
    "    df_list[file[:-9]] = get_historical_from_path(mypath+\"/\"+file)\n",
    "\n",
    "print(\"All data loaded\")"
   ]
  },
  {
   "cell_type": "code",
   "execution_count": 10,
   "metadata": {
    "pycharm": {
     "name": "#%%\n"
    },
    "ExecuteTime": {
     "end_time": "2023-06-04T13:22:52.638616829Z",
     "start_time": "2023-06-04T13:22:52.578994222Z"
    }
   },
   "outputs": [
    {
     "data": {
      "text/plain": "                         open      high       low     close      volume\ndate                                                                   \n2023-04-23 22:00:00  27517.83  27642.03  27423.46  27591.73  1270.69427\n2023-04-23 23:00:00  27591.73  27650.28  27543.47  27590.60  1212.95687\n2023-04-24 00:00:00  27590.59  27871.69  27427.30  27807.49  2569.36143\n2023-04-24 01:00:00  27807.50  28000.00  27685.00  27752.48  3284.37771\n2023-04-24 02:00:00  27752.47  27827.53  27670.28  27745.17  1361.78446\n...                       ...       ...       ...       ...         ...\n2023-06-04 09:00:00  27150.81  27249.86  27150.81  27215.89   806.34780\n2023-06-04 10:00:00  27215.88  27230.17  27190.34  27221.05   532.53164\n2023-06-04 11:00:00  27221.06  27235.67  27175.51  27198.55   939.50915\n2023-06-04 12:00:00  27198.54  27216.58  27160.11  27210.10   736.78595\n2023-06-04 13:00:00  27210.10  27215.02  27206.36  27211.80   118.37528\n\n[1000 rows x 5 columns]",
      "text/html": "<div>\n<style scoped>\n    .dataframe tbody tr th:only-of-type {\n        vertical-align: middle;\n    }\n\n    .dataframe tbody tr th {\n        vertical-align: top;\n    }\n\n    .dataframe thead th {\n        text-align: right;\n    }\n</style>\n<table border=\"1\" class=\"dataframe\">\n  <thead>\n    <tr style=\"text-align: right;\">\n      <th></th>\n      <th>open</th>\n      <th>high</th>\n      <th>low</th>\n      <th>close</th>\n      <th>volume</th>\n    </tr>\n    <tr>\n      <th>date</th>\n      <th></th>\n      <th></th>\n      <th></th>\n      <th></th>\n      <th></th>\n    </tr>\n  </thead>\n  <tbody>\n    <tr>\n      <th>2023-04-23 22:00:00</th>\n      <td>27517.83</td>\n      <td>27642.03</td>\n      <td>27423.46</td>\n      <td>27591.73</td>\n      <td>1270.69427</td>\n    </tr>\n    <tr>\n      <th>2023-04-23 23:00:00</th>\n      <td>27591.73</td>\n      <td>27650.28</td>\n      <td>27543.47</td>\n      <td>27590.60</td>\n      <td>1212.95687</td>\n    </tr>\n    <tr>\n      <th>2023-04-24 00:00:00</th>\n      <td>27590.59</td>\n      <td>27871.69</td>\n      <td>27427.30</td>\n      <td>27807.49</td>\n      <td>2569.36143</td>\n    </tr>\n    <tr>\n      <th>2023-04-24 01:00:00</th>\n      <td>27807.50</td>\n      <td>28000.00</td>\n      <td>27685.00</td>\n      <td>27752.48</td>\n      <td>3284.37771</td>\n    </tr>\n    <tr>\n      <th>2023-04-24 02:00:00</th>\n      <td>27752.47</td>\n      <td>27827.53</td>\n      <td>27670.28</td>\n      <td>27745.17</td>\n      <td>1361.78446</td>\n    </tr>\n    <tr>\n      <th>...</th>\n      <td>...</td>\n      <td>...</td>\n      <td>...</td>\n      <td>...</td>\n      <td>...</td>\n    </tr>\n    <tr>\n      <th>2023-06-04 09:00:00</th>\n      <td>27150.81</td>\n      <td>27249.86</td>\n      <td>27150.81</td>\n      <td>27215.89</td>\n      <td>806.34780</td>\n    </tr>\n    <tr>\n      <th>2023-06-04 10:00:00</th>\n      <td>27215.88</td>\n      <td>27230.17</td>\n      <td>27190.34</td>\n      <td>27221.05</td>\n      <td>532.53164</td>\n    </tr>\n    <tr>\n      <th>2023-06-04 11:00:00</th>\n      <td>27221.06</td>\n      <td>27235.67</td>\n      <td>27175.51</td>\n      <td>27198.55</td>\n      <td>939.50915</td>\n    </tr>\n    <tr>\n      <th>2023-06-04 12:00:00</th>\n      <td>27198.54</td>\n      <td>27216.58</td>\n      <td>27160.11</td>\n      <td>27210.10</td>\n      <td>736.78595</td>\n    </tr>\n    <tr>\n      <th>2023-06-04 13:00:00</th>\n      <td>27210.10</td>\n      <td>27215.02</td>\n      <td>27206.36</td>\n      <td>27211.80</td>\n      <td>118.37528</td>\n    </tr>\n  </tbody>\n</table>\n<p>1000 rows × 5 columns</p>\n</div>"
     },
     "execution_count": 10,
     "metadata": {},
     "output_type": "execute_result"
    }
   ],
   "source": [
    "df_list[\"BTC\"]"
   ]
  },
  {
   "cell_type": "code",
   "execution_count": 11,
   "metadata": {
    "pycharm": {
     "name": "#%%\n"
    },
    "ExecuteTime": {
     "end_time": "2023-06-04T13:22:57.955909411Z",
     "start_time": "2023-06-04T13:22:54.465438470Z"
    }
   },
   "outputs": [
    {
     "name": "stderr",
     "output_type": "stream",
     "text": [
      "/tmp/ipykernel_15314/2290173438.py:52: RuntimeWarning: invalid value encountered in scalar divide\n",
      "  return_vs_vol = perf/volatility\n",
      "/tmp/ipykernel_15314/2290173438.py:54: RuntimeWarning: invalid value encountered in scalar divide\n",
      "  volume_evolution = last_volume / mean_volume\n",
      "/tmp/ipykernel_15314/2290173438.py:57: RuntimeWarning: invalid value encountered in scalar divide\n",
      "  volatility_evolution = last_volatility / volatility\n",
      "/tmp/ipykernel_15314/2290173438.py:58: RuntimeWarning: invalid value encountered in scalar divide\n",
      "  last_return_vs_vol = last_perf / last_volatility\n",
      "/tmp/ipykernel_15314/2290173438.py:52: RuntimeWarning: invalid value encountered in scalar divide\n",
      "  return_vs_vol = perf/volatility\n",
      "/tmp/ipykernel_15314/2290173438.py:54: RuntimeWarning: invalid value encountered in scalar divide\n",
      "  volume_evolution = last_volume / mean_volume\n",
      "/tmp/ipykernel_15314/2290173438.py:57: RuntimeWarning: divide by zero encountered in scalar divide\n",
      "  volatility_evolution = last_volatility / volatility\n",
      "/tmp/ipykernel_15314/2290173438.py:52: RuntimeWarning: invalid value encountered in scalar divide\n",
      "  return_vs_vol = perf/volatility\n",
      "/tmp/ipykernel_15314/2290173438.py:54: RuntimeWarning: invalid value encountered in scalar divide\n",
      "  volume_evolution = last_volume / mean_volume\n",
      "/tmp/ipykernel_15314/2290173438.py:57: RuntimeWarning: invalid value encountered in scalar divide\n",
      "  volatility_evolution = last_volatility / volatility\n",
      "/tmp/ipykernel_15314/2290173438.py:58: RuntimeWarning: invalid value encountered in scalar divide\n",
      "  last_return_vs_vol = last_perf / last_volatility\n",
      "/tmp/ipykernel_15314/2290173438.py:58: RuntimeWarning: invalid value encountered in scalar divide\n",
      "  last_return_vs_vol = last_perf / last_volatility\n",
      "/tmp/ipykernel_15314/2290173438.py:52: RuntimeWarning: invalid value encountered in scalar divide\n",
      "  return_vs_vol = perf/volatility\n",
      "/tmp/ipykernel_15314/2290173438.py:54: RuntimeWarning: invalid value encountered in scalar divide\n",
      "  volume_evolution = last_volume / mean_volume\n",
      "/tmp/ipykernel_15314/2290173438.py:57: RuntimeWarning: divide by zero encountered in scalar divide\n",
      "  volatility_evolution = last_volatility / volatility\n",
      "/tmp/ipykernel_15314/2290173438.py:52: RuntimeWarning: invalid value encountered in scalar divide\n",
      "  return_vs_vol = perf/volatility\n",
      "/tmp/ipykernel_15314/2290173438.py:54: RuntimeWarning: invalid value encountered in scalar divide\n",
      "  volume_evolution = last_volume / mean_volume\n",
      "/tmp/ipykernel_15314/2290173438.py:57: RuntimeWarning: divide by zero encountered in scalar divide\n",
      "  volatility_evolution = last_volatility / volatility\n"
     ]
    },
    {
     "data": {
      "text/plain": "               mean_volume  last_volume  volume_evolution  mean_volatility  \\\nJOE-USDT           1415313      4464419              3.15             1.54   \nJOE                 319189       644506              2.02             1.50   \nEPX                  53282      1754499             32.93             0.86   \nAKRO                 48600       675769             13.90             1.20   \nCVP                  28028       254685              9.09             1.10   \nIMX                 220992       217825              0.99             1.27   \nIMX-USDT           1479052      2177014              1.47             1.30   \nDAR                  76622       379770              4.96             0.88   \nDAR-USDT            347136      1738873              5.01             0.93   \nFOR                  26242        21921              0.84             0.92   \nBSW                  36364       168951              4.65             0.73   \nFET                 596046       259585              0.44             1.40   \nALPHA               261224        88337              0.34             1.53   \nFET-USDT           2196480      1065096              0.48             1.45   \nALPHA-USDT         4063592       907415              0.22             1.53   \nKSM-USDT            421384       916322              2.17             0.87   \nKSM                  58527        67236              1.15             0.83   \nAPT                1144975       768589              0.67             1.10   \nAPT-USDT           7629961      6157063              0.81             1.13   \nLOKA                 38212        30960              0.81             1.03   \nDIA                  15206        11161              0.73             0.92   \nCOCOS               580725       582972              1.00             1.85   \nDEXE                 18316        15518              0.85             0.91   \n1000LUNC-USDT      1887385     13083613              6.93             1.10   \nBURGER               51764        27279              0.53             1.01   \nFIS                  29127         8236              0.28             0.92   \nGLMR                 44768        40670              0.91             0.75   \nGMT-USDT           3771348      1974501              0.52             1.07   \nCITY                109982        77772              0.71             1.29   \nLUNC                327994      1170562              3.57             1.01   \n\n               last_volatility  volatility_evolution  return  last_return  \\\nJOE-USDT                  2.99                  1.94   -6.39         7.19   \nJOE                       2.99                  2.00   -6.40         7.14   \nEPX                       4.84                  5.61    2.52         6.54   \nAKRO                      4.82                  4.01    4.64         6.21   \nCVP                       2.82                  2.57   -5.32         5.74   \nIMX                       2.22                  1.75  -12.63         4.53   \nIMX-USDT                  2.19                  1.69  -12.75         4.47   \nDAR                       2.44                  2.76  -16.32         4.32   \nDAR-USDT                  2.38                  2.57  -16.47         4.23   \nFOR                       1.16                  1.26   -3.43         3.58   \nBSW                       1.73                  2.38  -27.21         3.44   \nFET                       1.35                  0.96  -17.69         3.08   \nALPHA                     1.05                  0.69   18.05         3.03   \nFET-USDT                  1.35                  0.93  -17.67         3.01   \nALPHA-USDT                1.01                  0.66   18.09         2.95   \nKSM-USDT                  1.24                  1.43   -7.12         2.92   \nKSM                       1.25                  1.52   -7.02         2.92   \nAPT                       0.88                  0.80   -9.79         2.21   \nAPT-USDT                  0.87                  0.77   -9.78         2.20   \nLOKA                      0.83                  0.80  -27.12         2.14   \nDIA                       0.70                  0.76  -11.47         2.13   \nCOCOS                     1.36                  0.74    0.69         2.12   \nDEXE                      1.26                  1.39  -17.85         2.09   \n1000LUNC-USDT             1.35                  1.24  -14.73         1.96   \nBURGER                    0.74                  0.74  -21.10         1.76   \nFIS                       0.63                  0.69  -21.33         1.76   \nGLMR                      0.78                  1.05  -20.98         1.75   \nGMT-USDT                  0.79                  0.74  -16.42         1.73   \nCITY                      0.86                  0.66  -18.71         1.73   \nLUNC                      1.33                  1.32  -14.74         1.71   \n\n               return_vs_vol  last_return_vs_vol  \nJOE-USDT               -4.14                2.41  \nJOE                    -4.28                2.39  \nEPX                     2.93                1.35  \nAKRO                    3.86                1.29  \nCVP                    -4.84                2.03  \nIMX                    -9.93                2.04  \nIMX-USDT               -9.83                2.04  \nDAR                   -18.47                1.77  \nDAR-USDT              -17.79                1.78  \nFOR                    -3.73                3.09  \nBSW                   -37.41                1.99  \nFET                   -12.62                2.28  \nALPHA                  11.83                2.89  \nFET-USDT              -12.18                2.22  \nALPHA-USDT             11.84                2.93  \nKSM-USDT               -8.23                2.35  \nKSM                    -8.51                2.33  \nAPT                    -8.92                2.52  \nAPT-USDT               -8.68                2.52  \nLOKA                  -26.37                2.59  \nDIA                   -12.45                3.06  \nCOCOS                   0.38                1.56  \nDEXE                  -19.61                1.65  \n1000LUNC-USDT         -13.44                1.45  \nBURGER                -20.99                2.37  \nFIS                   -23.25                2.78  \nGLMR                  -27.98                2.24  \nGMT-USDT              -15.37                2.18  \nCITY                  -14.53                2.02  \nLUNC                  -14.55                1.28  ",
      "text/html": "<div>\n<style scoped>\n    .dataframe tbody tr th:only-of-type {\n        vertical-align: middle;\n    }\n\n    .dataframe tbody tr th {\n        vertical-align: top;\n    }\n\n    .dataframe thead th {\n        text-align: right;\n    }\n</style>\n<table border=\"1\" class=\"dataframe\">\n  <thead>\n    <tr style=\"text-align: right;\">\n      <th></th>\n      <th>mean_volume</th>\n      <th>last_volume</th>\n      <th>volume_evolution</th>\n      <th>mean_volatility</th>\n      <th>last_volatility</th>\n      <th>volatility_evolution</th>\n      <th>return</th>\n      <th>last_return</th>\n      <th>return_vs_vol</th>\n      <th>last_return_vs_vol</th>\n    </tr>\n  </thead>\n  <tbody>\n    <tr>\n      <th>JOE-USDT</th>\n      <td>1415313</td>\n      <td>4464419</td>\n      <td>3.15</td>\n      <td>1.54</td>\n      <td>2.99</td>\n      <td>1.94</td>\n      <td>-6.39</td>\n      <td>7.19</td>\n      <td>-4.14</td>\n      <td>2.41</td>\n    </tr>\n    <tr>\n      <th>JOE</th>\n      <td>319189</td>\n      <td>644506</td>\n      <td>2.02</td>\n      <td>1.50</td>\n      <td>2.99</td>\n      <td>2.00</td>\n      <td>-6.40</td>\n      <td>7.14</td>\n      <td>-4.28</td>\n      <td>2.39</td>\n    </tr>\n    <tr>\n      <th>EPX</th>\n      <td>53282</td>\n      <td>1754499</td>\n      <td>32.93</td>\n      <td>0.86</td>\n      <td>4.84</td>\n      <td>5.61</td>\n      <td>2.52</td>\n      <td>6.54</td>\n      <td>2.93</td>\n      <td>1.35</td>\n    </tr>\n    <tr>\n      <th>AKRO</th>\n      <td>48600</td>\n      <td>675769</td>\n      <td>13.90</td>\n      <td>1.20</td>\n      <td>4.82</td>\n      <td>4.01</td>\n      <td>4.64</td>\n      <td>6.21</td>\n      <td>3.86</td>\n      <td>1.29</td>\n    </tr>\n    <tr>\n      <th>CVP</th>\n      <td>28028</td>\n      <td>254685</td>\n      <td>9.09</td>\n      <td>1.10</td>\n      <td>2.82</td>\n      <td>2.57</td>\n      <td>-5.32</td>\n      <td>5.74</td>\n      <td>-4.84</td>\n      <td>2.03</td>\n    </tr>\n    <tr>\n      <th>IMX</th>\n      <td>220992</td>\n      <td>217825</td>\n      <td>0.99</td>\n      <td>1.27</td>\n      <td>2.22</td>\n      <td>1.75</td>\n      <td>-12.63</td>\n      <td>4.53</td>\n      <td>-9.93</td>\n      <td>2.04</td>\n    </tr>\n    <tr>\n      <th>IMX-USDT</th>\n      <td>1479052</td>\n      <td>2177014</td>\n      <td>1.47</td>\n      <td>1.30</td>\n      <td>2.19</td>\n      <td>1.69</td>\n      <td>-12.75</td>\n      <td>4.47</td>\n      <td>-9.83</td>\n      <td>2.04</td>\n    </tr>\n    <tr>\n      <th>DAR</th>\n      <td>76622</td>\n      <td>379770</td>\n      <td>4.96</td>\n      <td>0.88</td>\n      <td>2.44</td>\n      <td>2.76</td>\n      <td>-16.32</td>\n      <td>4.32</td>\n      <td>-18.47</td>\n      <td>1.77</td>\n    </tr>\n    <tr>\n      <th>DAR-USDT</th>\n      <td>347136</td>\n      <td>1738873</td>\n      <td>5.01</td>\n      <td>0.93</td>\n      <td>2.38</td>\n      <td>2.57</td>\n      <td>-16.47</td>\n      <td>4.23</td>\n      <td>-17.79</td>\n      <td>1.78</td>\n    </tr>\n    <tr>\n      <th>FOR</th>\n      <td>26242</td>\n      <td>21921</td>\n      <td>0.84</td>\n      <td>0.92</td>\n      <td>1.16</td>\n      <td>1.26</td>\n      <td>-3.43</td>\n      <td>3.58</td>\n      <td>-3.73</td>\n      <td>3.09</td>\n    </tr>\n    <tr>\n      <th>BSW</th>\n      <td>36364</td>\n      <td>168951</td>\n      <td>4.65</td>\n      <td>0.73</td>\n      <td>1.73</td>\n      <td>2.38</td>\n      <td>-27.21</td>\n      <td>3.44</td>\n      <td>-37.41</td>\n      <td>1.99</td>\n    </tr>\n    <tr>\n      <th>FET</th>\n      <td>596046</td>\n      <td>259585</td>\n      <td>0.44</td>\n      <td>1.40</td>\n      <td>1.35</td>\n      <td>0.96</td>\n      <td>-17.69</td>\n      <td>3.08</td>\n      <td>-12.62</td>\n      <td>2.28</td>\n    </tr>\n    <tr>\n      <th>ALPHA</th>\n      <td>261224</td>\n      <td>88337</td>\n      <td>0.34</td>\n      <td>1.53</td>\n      <td>1.05</td>\n      <td>0.69</td>\n      <td>18.05</td>\n      <td>3.03</td>\n      <td>11.83</td>\n      <td>2.89</td>\n    </tr>\n    <tr>\n      <th>FET-USDT</th>\n      <td>2196480</td>\n      <td>1065096</td>\n      <td>0.48</td>\n      <td>1.45</td>\n      <td>1.35</td>\n      <td>0.93</td>\n      <td>-17.67</td>\n      <td>3.01</td>\n      <td>-12.18</td>\n      <td>2.22</td>\n    </tr>\n    <tr>\n      <th>ALPHA-USDT</th>\n      <td>4063592</td>\n      <td>907415</td>\n      <td>0.22</td>\n      <td>1.53</td>\n      <td>1.01</td>\n      <td>0.66</td>\n      <td>18.09</td>\n      <td>2.95</td>\n      <td>11.84</td>\n      <td>2.93</td>\n    </tr>\n    <tr>\n      <th>KSM-USDT</th>\n      <td>421384</td>\n      <td>916322</td>\n      <td>2.17</td>\n      <td>0.87</td>\n      <td>1.24</td>\n      <td>1.43</td>\n      <td>-7.12</td>\n      <td>2.92</td>\n      <td>-8.23</td>\n      <td>2.35</td>\n    </tr>\n    <tr>\n      <th>KSM</th>\n      <td>58527</td>\n      <td>67236</td>\n      <td>1.15</td>\n      <td>0.83</td>\n      <td>1.25</td>\n      <td>1.52</td>\n      <td>-7.02</td>\n      <td>2.92</td>\n      <td>-8.51</td>\n      <td>2.33</td>\n    </tr>\n    <tr>\n      <th>APT</th>\n      <td>1144975</td>\n      <td>768589</td>\n      <td>0.67</td>\n      <td>1.10</td>\n      <td>0.88</td>\n      <td>0.80</td>\n      <td>-9.79</td>\n      <td>2.21</td>\n      <td>-8.92</td>\n      <td>2.52</td>\n    </tr>\n    <tr>\n      <th>APT-USDT</th>\n      <td>7629961</td>\n      <td>6157063</td>\n      <td>0.81</td>\n      <td>1.13</td>\n      <td>0.87</td>\n      <td>0.77</td>\n      <td>-9.78</td>\n      <td>2.20</td>\n      <td>-8.68</td>\n      <td>2.52</td>\n    </tr>\n    <tr>\n      <th>LOKA</th>\n      <td>38212</td>\n      <td>30960</td>\n      <td>0.81</td>\n      <td>1.03</td>\n      <td>0.83</td>\n      <td>0.80</td>\n      <td>-27.12</td>\n      <td>2.14</td>\n      <td>-26.37</td>\n      <td>2.59</td>\n    </tr>\n    <tr>\n      <th>DIA</th>\n      <td>15206</td>\n      <td>11161</td>\n      <td>0.73</td>\n      <td>0.92</td>\n      <td>0.70</td>\n      <td>0.76</td>\n      <td>-11.47</td>\n      <td>2.13</td>\n      <td>-12.45</td>\n      <td>3.06</td>\n    </tr>\n    <tr>\n      <th>COCOS</th>\n      <td>580725</td>\n      <td>582972</td>\n      <td>1.00</td>\n      <td>1.85</td>\n      <td>1.36</td>\n      <td>0.74</td>\n      <td>0.69</td>\n      <td>2.12</td>\n      <td>0.38</td>\n      <td>1.56</td>\n    </tr>\n    <tr>\n      <th>DEXE</th>\n      <td>18316</td>\n      <td>15518</td>\n      <td>0.85</td>\n      <td>0.91</td>\n      <td>1.26</td>\n      <td>1.39</td>\n      <td>-17.85</td>\n      <td>2.09</td>\n      <td>-19.61</td>\n      <td>1.65</td>\n    </tr>\n    <tr>\n      <th>1000LUNC-USDT</th>\n      <td>1887385</td>\n      <td>13083613</td>\n      <td>6.93</td>\n      <td>1.10</td>\n      <td>1.35</td>\n      <td>1.24</td>\n      <td>-14.73</td>\n      <td>1.96</td>\n      <td>-13.44</td>\n      <td>1.45</td>\n    </tr>\n    <tr>\n      <th>BURGER</th>\n      <td>51764</td>\n      <td>27279</td>\n      <td>0.53</td>\n      <td>1.01</td>\n      <td>0.74</td>\n      <td>0.74</td>\n      <td>-21.10</td>\n      <td>1.76</td>\n      <td>-20.99</td>\n      <td>2.37</td>\n    </tr>\n    <tr>\n      <th>FIS</th>\n      <td>29127</td>\n      <td>8236</td>\n      <td>0.28</td>\n      <td>0.92</td>\n      <td>0.63</td>\n      <td>0.69</td>\n      <td>-21.33</td>\n      <td>1.76</td>\n      <td>-23.25</td>\n      <td>2.78</td>\n    </tr>\n    <tr>\n      <th>GLMR</th>\n      <td>44768</td>\n      <td>40670</td>\n      <td>0.91</td>\n      <td>0.75</td>\n      <td>0.78</td>\n      <td>1.05</td>\n      <td>-20.98</td>\n      <td>1.75</td>\n      <td>-27.98</td>\n      <td>2.24</td>\n    </tr>\n    <tr>\n      <th>GMT-USDT</th>\n      <td>3771348</td>\n      <td>1974501</td>\n      <td>0.52</td>\n      <td>1.07</td>\n      <td>0.79</td>\n      <td>0.74</td>\n      <td>-16.42</td>\n      <td>1.73</td>\n      <td>-15.37</td>\n      <td>2.18</td>\n    </tr>\n    <tr>\n      <th>CITY</th>\n      <td>109982</td>\n      <td>77772</td>\n      <td>0.71</td>\n      <td>1.29</td>\n      <td>0.86</td>\n      <td>0.66</td>\n      <td>-18.71</td>\n      <td>1.73</td>\n      <td>-14.53</td>\n      <td>2.02</td>\n    </tr>\n    <tr>\n      <th>LUNC</th>\n      <td>327994</td>\n      <td>1170562</td>\n      <td>3.57</td>\n      <td>1.01</td>\n      <td>1.33</td>\n      <td>1.32</td>\n      <td>-14.74</td>\n      <td>1.71</td>\n      <td>-14.55</td>\n      <td>1.28</td>\n    </tr>\n  </tbody>\n</table>\n</div>"
     },
     "execution_count": 11,
     "metadata": {},
     "output_type": "execute_result"
    }
   ],
   "source": [
    "df_metric = get_analyisis_from_window(12).sort_values(by=\"last_return\", ascending=False)\n",
    "df_metric.iloc[:30]"
   ]
  },
  {
   "cell_type": "code",
   "execution_count": null,
   "metadata": {
    "pycharm": {
     "name": "#%%\n"
    }
   },
   "outputs": [],
   "source": []
  }
 ],
 "metadata": {
  "kernelspec": {
   "display_name": "Python 3 (ipykernel)",
   "language": "python",
   "name": "python3"
  },
  "language_info": {
   "codemirror_mode": {
    "name": "ipython",
    "version": 3
   },
   "file_extension": ".py",
   "mimetype": "text/x-python",
   "name": "python",
   "nbconvert_exporter": "python",
   "pygments_lexer": "ipython3",
   "version": "3.10.6"
  }
 },
 "nbformat": 4,
 "nbformat_minor": 1
}
