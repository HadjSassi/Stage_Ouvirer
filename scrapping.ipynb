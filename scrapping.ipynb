{
 "cells": [
  {
   "cell_type": "code",
   "execution_count": 9,
   "outputs": [],
   "source": [
    "import requests\n",
    "from bs4 import BeautifulSoup\n",
    "import pandas as pd\n",
    "from time import sleep"
   ],
   "metadata": {
    "collapsed": false,
    "pycharm": {
     "name": "#%%\n"
    }
   }
  },
  {
   "cell_type": "code",
   "execution_count": 10,
   "outputs": [],
   "source": [
    "def scrape_amazon_product(search_query):\n",
    "    headers = {\n",
    "        'User-Agent': 'Mozilla/5.0 (Windows NT 10.0; Win64; x64; rv:94.0) Gecko/20100101 Firefox/94.0',\n",
    "        'Accept-Language': 'en-US, en;q=0.5'\n",
    "    }\n",
    "\n",
    "    search_query = search_query.replace(' ', '+')\n",
    "    base_url = 'https://www.amazon.com/s?k={0}'.format(search_query)\n",
    "\n",
    "    items = []\n",
    "    for i in range(1, 5):\n",
    "        print('Processing page {0}...'.format(i))\n",
    "        response = requests.get(base_url + '&page={0}'.format(i), headers=headers)\n",
    "        print(response)\n",
    "        soup = BeautifulSoup(response.content, 'html.parser')\n",
    "\n",
    "        results = soup.find_all('div', {'class': 's-result-item', 'data-component-type': 's-search-result'})\n",
    "\n",
    "        for result in results:\n",
    "            product_name = result.h2.text\n",
    "\n",
    "            try:\n",
    "                rating = result.find('i', {'class': 'a-icon'}).text\n",
    "                rating_count = result.find_all('span', {'aria-label': True})[1].text\n",
    "            except AttributeError:\n",
    "                continue\n",
    "\n",
    "            try:\n",
    "                price1 = result.find('span', {'class': 'a-price-whole'}).text\n",
    "                price2 = result.find('span', {'class': 'a-price-fraction'}).text\n",
    "                price = float(price1 + price2)\n",
    "                product_url = 'https://amazon.com' + result.h2.a['href']\n",
    "\n",
    "                items.append([product_name, price, product_url, rating])\n",
    "            except AttributeError:\n",
    "                continue\n",
    "        sleep(1.5)\n",
    "\n",
    "    df = pd.DataFrame(items, columns=['Product', 'Price', 'Product URL', 'Rating'])\n",
    "    return df"
   ],
   "metadata": {
    "collapsed": false,
    "pycharm": {
     "name": "#%%\n"
    }
   }
  },
  {
   "cell_type": "code",
   "execution_count": 11,
   "outputs": [],
   "source": [
    "product_name = input(\"Enter the name of the product: \")"
   ],
   "metadata": {
    "collapsed": false,
    "pycharm": {
     "name": "#%%\n"
    }
   }
  },
  {
   "cell_type": "code",
   "execution_count": 14,
   "outputs": [
    {
     "name": "stdout",
     "output_type": "stream",
     "text": [
      "Processing page 1...\n",
      "<Response [503]>\n",
      "Processing page 2...\n",
      "<Response [503]>\n",
      "Processing page 3...\n",
      "<Response [503]>\n",
      "Processing page 4...\n",
      "<Response [503]>\n"
     ]
    },
    {
     "data": {
      "text/plain": "Empty DataFrame\nColumns: [Product, Price, Product URL, Rating]\nIndex: []",
      "text/html": "<div>\n<style scoped>\n    .dataframe tbody tr th:only-of-type {\n        vertical-align: middle;\n    }\n\n    .dataframe tbody tr th {\n        vertical-align: top;\n    }\n\n    .dataframe thead th {\n        text-align: right;\n    }\n</style>\n<table border=\"1\" class=\"dataframe\">\n  <thead>\n    <tr style=\"text-align: right;\">\n      <th></th>\n      <th>Product</th>\n      <th>Price</th>\n      <th>Product URL</th>\n      <th>Rating</th>\n    </tr>\n  </thead>\n  <tbody>\n  </tbody>\n</table>\n</div>"
     },
     "execution_count": 14,
     "metadata": {},
     "output_type": "execute_result"
    }
   ],
   "source": [
    "scrape_amazon_product(product_name)\n"
   ],
   "metadata": {
    "collapsed": false,
    "pycharm": {
     "name": "#%%\n"
    }
   }
  },
  {
   "cell_type": "code",
   "execution_count": null,
   "outputs": [],
   "source": [],
   "metadata": {
    "collapsed": false,
    "pycharm": {
     "name": "#%%\n"
    }
   }
  }
 ],
 "metadata": {
  "kernelspec": {
   "display_name": "Python 3",
   "language": "python",
   "name": "python3"
  },
  "language_info": {
   "codemirror_mode": {
    "name": "ipython",
    "version": 2
   },
   "file_extension": ".py",
   "mimetype": "text/x-python",
   "name": "python",
   "nbconvert_exporter": "python",
   "pygments_lexer": "ipython2",
   "version": "2.7.6"
  }
 },
 "nbformat": 4,
 "nbformat_minor": 0
}